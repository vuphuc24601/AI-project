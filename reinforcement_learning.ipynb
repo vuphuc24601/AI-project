{
 "cells": [
  {
   "cell_type": "markdown",
   "metadata": {},
   "source": [
    "# Reinforcement Learning\n",
    "\n",
    "This Jupyter notebook acts as supporting material for **Chapter 21 Reinforcement Learning** of the book* Artificial Intelligence: A Modern Approach*. This notebook makes use of the implementations in `rl.py` module. We also make use of implementation of MDPs in the `mdp.py` module to test our agents. It might be helpful if you have already gone through the Jupyter notebook dealing with Markov decision process. Let us import everything from the `rl` module. It might be helpful to view the source of some of our implementations. Please refer to the Introductory Jupyter notebook for more details."
   ]
  },
  {
   "cell_type": "code",
   "execution_count": 96,
   "metadata": {},
   "outputs": [],
   "source": [
    "from reinforcement_learning4e import *"
   ]
  },
  {
   "cell_type": "markdown",
   "metadata": {},
   "source": [
    "## CONTENTS\n",
    "\n",
    "* Overview\n",
    "* Passive Reinforcement Learning\n",
    "    - Direct Utility Estimation\n",
    "    - Adaptive Dynamic Programming\n",
    "    - Temporal-Difference Agent\n",
    "* Active Reinforcement Learning\n",
    "    - Q learning"
   ]
  },
  {
   "cell_type": "markdown",
   "metadata": {
    "collapsed": true
   },
   "source": [
    "## OVERVIEW\n",
    "\n",
    "Before we start playing with the actual implementations let us review a couple of things about RL.\n",
    "\n",
    "1. Reinforcement Learning is concerned with how software agents ought to take actions in an environment so as to maximize some notion of cumulative reward. \n",
    "\n",
    "2. Reinforcement learning differs from standard supervised learning in that correct input/output pairs are never presented, nor sub-optimal actions explicitly corrected. Further, there is a focus on on-line performance, which involves finding a balance between exploration (of uncharted territory) and exploitation (of current knowledge).\n",
    "\n",
    "-- Source: [Wikipedia](https://en.wikipedia.org/wiki/Reinforcement_learning)\n",
    "\n",
    "In summary we have a sequence of state action transitions with rewards associated with some states. Our goal is to find the optimal policy $\\pi$ which tells us what action to take in each state."
   ]
  },
  {
   "cell_type": "markdown",
   "metadata": {},
   "source": [
    "## PASSIVE REINFORCEMENT LEARNING\n",
    "\n",
    "In passive Reinforcement Learning the agent follows a fixed policy $\\pi$. Passive learning attempts to evaluate the given policy $pi$ - without any knowledge of the Reward function $R(s)$ and the Transition model $P(s'\\ |\\ s, a)$.\n",
    "\n",
    "This is usually done by some method of **utility estimation**. The agent attempts to directly learn the utility of each state that would result from following the policy. Note that at each step, it has to *perceive* the reward and the state - it has no global knowledge of these. Thus, if a certain the entire set of actions offers a very low probability of attaining some state $s_+$ - the agent may never perceive the reward $R(s_+)$.\n",
    "\n",
    "Consider a situation where an agent is given a policy to follow. Thus, at any point it knows only its current state and current reward, and the action it must take next. This action may lead it to more than one state, with different probabilities.\n",
    "\n",
    "For a series of actions given by $\\pi$, the estimated utility $U$:\n",
    "$$U^{\\pi}(s) = E(\\sum_{t=0}^\\inf \\gamma^t R^t(s')$$)\n",
    "Or the expected value of summed discounted rewards until termination.\n",
    "\n",
    "Based on this concept, we discuss three methods of estimating utility:\n",
    "\n",
    "1. **Direct Utility Estimation (DUE)**\n",
    " \n",
    " The first, most naive method of estimating utility comes from the simplest interpretation of the above definition. We construct an agent that follows the policy until it reaches the terminal state. At each step, it logs its current state, reward. Once it reaches the terminal state, it can estimate the utility for each state for *that* iteration, by simply summing the discounted rewards from that state to the terminal one.\n",
    "\n",
    " It can now run this 'simulation' $n$ times, and calculate the average utility of each state. If a state occurs more than once in a simulation, both its utility values are counted separately.\n",
    " \n",
    " Note that this method may be prohibitively slow for very large statespaces. Besides, **it pays no attention to the transition probability $P(s'\\ |\\ s, a)$.** It misses out on information that it is capable of collecting (say, by recording the number of times an action from one state led to another state). The next method addresses this issue.\n",
    " \n",
    "2. **Adaptive Dynamic Programming (ADP)**\n",
    " \n",
    " This method makes use of knowledge of the past state $s$, the action $a$, and the new perceived state $s'$ to estimate the transition probability $P(s'\\ |\\ s,a)$. It does this by the simple counting of new states resulting from previous states and actions.<br> \n",
    " The program runs through the policy a number of times, keeping track of:\n",
    "    - each occurrence of state $s$ and the policy-recommended action $a$ in $N_{sa}$\n",
    "    - each occurrence of $s'$ resulting from $a$ on $s$ in $N_{s'|sa}$.\n",
    "     \n",
    " It can thus estimate $P(s'\\ |\\ s,a)$ as $N_{s'|sa}/N_{sa}$, which in the limit of infinite trials, will converge to the true value.<br>\n",
    " Using the transition probabilities thus estimated, it can apply `POLICY-EVALUATION` to estimate the utilities $U(s)$ using properties of convergence of the Bellman functions.\n",
    "\n",
    "3. **Temporal-difference learning (TD)**\n",
    " \n",
    " Instead of explicitly building the transition model $P$, the temporal-difference model makes use of the expected closeness between the utilities of two consecutive states $s$ and $s'$.\n",
    " For the transition $s$ to $s'$, the update is written as:\n",
    "$$U^{\\pi}(s) \\leftarrow U^{\\pi}(s) + \\alpha \\left( R(s) + \\gamma U^{\\pi}(s') - U^{\\pi}(s) \\right)$$\n",
    " This model implicitly incorporates the transition probabilities by being weighed for each state by the number of times it is achieved from the current state. Thus, over a number of iterations, it converges similarly to the Bellman equations.\n",
    " The advantage of the TD learning model is its relatively simple computation at each step, rather than having to keep track of various counts.\n",
    " For $n_s$ states and $n_a$ actions the ADP model would have $n_s \\times n_a$ numbers $N_{sa}$ and $n_s^2 \\times n_a$ numbers $N_{s'|sa}$ to keep track of. The TD model must only keep track of a utility $U(s)$ for each state."
   ]
  },
  {
   "cell_type": "markdown",
   "metadata": {},
   "source": [
    "#### Demonstrating Passive agents\n",
    "\n",
    "Passive agents are implemented in `rl.py` as various `Agent-Class`es.\n",
    "\n",
    "To demonstrate these agents, we make use of the `GridMDP` object from the `MDP` module. `sequential_decision_environment` is similar to that used for the `MDP` notebook but has discounting with $\\gamma = 0.9$.\n",
    "\n",
    "The `Agent-Program` can be obtained by creating an instance of the relevant `Agent-Class`. The `__call__` method allows the `Agent-Class` to be called as a function. The class needs to be instantiated with a policy ($\\pi$) and an `MDP` whose utility of states will be estimated."
   ]
  },
  {
   "cell_type": "code",
   "execution_count": 97,
   "metadata": {},
   "outputs": [],
   "source": [
    "from mdp4e import sequential_decision_environment"
   ]
  },
  {
   "cell_type": "markdown",
   "metadata": {},
   "source": [
    "The `sequential_decision_environment` is a GridMDP object as shown below. The rewards are **+1** and **-1** in the terminal states, and **-0.04** in the rest. <img src=\"files/images/mdp.png\"> Now we define actions and a policy similar to **Fig 21.1** in the book."
   ]
  },
  {
   "cell_type": "code",
   "execution_count": 98,
   "metadata": {},
   "outputs": [],
   "source": [
    "# Action Directions\n",
    "north = (0, 1)\n",
    "south = (0,-1)\n",
    "west = (-1, 0)\n",
    "east = (1, 0)\n",
    "\n",
    "# policy = {\n",
    "#     (0, 2): east, (1, 2): east,  (2, 2): east,   (3, 2): None,\n",
    "#     (0, 1): north,               (2, 1): north,    (3, 1): None,\n",
    "#     (0, 0): north, (1, 0): west,                   (3, 0): north, \n",
    "# }\n",
    "\n",
    "policy = {\n",
    "    (0, 7): east,  (1, 7): east,  (2, 7): east,   (3, 7): east, (4, 7): east,  (5, 7): east,  (6, 7): east,   (7, 7): None,\n",
    "    (0, 6): north, (1, 6): north, (2, 6): north,  (3, 6): north, (4, 6): east,  (5, 6): east,  (6, 6): east,   (7, 6): north,\n",
    "    (0, 5): north, (1, 5): north,  (2, 5): west,   (3, 5): west, (4, 5): east,  (5, 5): north, (6, 5): east,    (7, 5): north,\n",
    "    (0, 4): north, (1, 4): north, (2, 4): north,  (3, 4): north,                                               (7, 4): north,\n",
    "    (0, 3): north, (1, 3): north, (2, 3): north,  (3, 3): north, (4, 3): east,  (5, 3): east,  (6, 3): east,   (7, 3): north,\n",
    "    (0, 2): north, (1, 2): north, (2, 2): north,   (3, 2): west, (4, 2): east,  (5, 2): east,  (6, 2): east,   (7, 2): north,\n",
    "    (0, 1): east, (1, 1): east, (2, 1): north,   (3, 1): east,  (4, 1): east,  (5, 1): east,  (6, 1): east,   (7, 1): north,\n",
    "    (0, 0): east, (1, 0): east,  (2, 0): east,   (3, 0): east, (4, 0): east,  (5, 0): east,  (6, 0): east,   (7, 0): north\n",
    "}\n",
    "\n"
   ]
  },
  {
   "cell_type": "markdown",
   "metadata": {},
   "source": [
    "###  Direction Utility Estimation Agent\n",
    "\n",
    "The `PassiveDEUAgent` class in the `rl` module implements the Agent Program described in **Fig 21.2** of the AIMA Book. `PassiveDEUAgent` sums over rewards to find the estimated utility for each state. It thus requires the running of a number of iterations."
   ]
  },
  {
   "cell_type": "code",
   "execution_count": 99,
   "metadata": {},
   "outputs": [],
   "source": [
    "# %psource PassiveDUEAgent"
   ]
  },
  {
   "cell_type": "code",
   "execution_count": 100,
   "metadata": {},
   "outputs": [],
   "source": [
    "# DUEagent = PassiveDUEAgent(policy, sequential_decision_environment)\n",
    "# for i in range(1000):\n",
    "#     run_single_trial(DUEagent, sequential_decision_environment)\n",
    "#     DUEagent.estimate_U()\n"
   ]
  },
  {
   "cell_type": "markdown",
   "metadata": {},
   "source": [
    "The calculated utilities are:"
   ]
  },
  {
   "cell_type": "code",
   "execution_count": 101,
   "metadata": {},
   "outputs": [],
   "source": [
    "# print('\\n'.join([str(k)+':'+str(v) for k, v in DUEagent.U.items()]))"
   ]
  },
  {
   "cell_type": "markdown",
   "metadata": {},
   "source": [
    "### Adaptive Dynamic Programming Agent\n",
    "\n",
    "The `PassiveADPAgent` class in the `rl` module implements the Agent Program described in **Fig 21.2** of the AIMA Book. `PassiveADPAgent` uses state transition and occurrence counts to estimate $P$, and then $U$. Go through the source below to understand the agent."
   ]
  },
  {
   "cell_type": "code",
   "execution_count": 102,
   "metadata": {},
   "outputs": [],
   "source": [
    "# %psource PassiveADPAgent"
   ]
  },
  {
   "cell_type": "markdown",
   "metadata": {},
   "source": [
    "We instantiate a `PassiveADPAgent` below with the `GridMDP` shown and train it over 200 iterations. The `rl` module has a simple implementation to simulate iterations. The function is called **run_single_trial**."
   ]
  },
  {
   "cell_type": "code",
   "execution_count": 103,
   "metadata": {
    "scrolled": true
   },
   "outputs": [],
   "source": [
    "# ADPagent = PassiveADPAgent(policy, sequential_decision_environment)\n",
    "# for i in range(200):\n",
    "#     run_single_trial(ADPagent, sequential_decision_environment)"
   ]
  },
  {
   "cell_type": "markdown",
   "metadata": {},
   "source": [
    "The calculated utilities are:"
   ]
  },
  {
   "cell_type": "code",
   "execution_count": 104,
   "metadata": {
    "scrolled": true
   },
   "outputs": [],
   "source": [
    "# print('\\n'.join([str(k)+':'+str(v) for k, v in ADPagent.U.items()]))"
   ]
  },
  {
   "cell_type": "markdown",
   "metadata": {},
   "source": [
    "### Passive Temporal Difference Agent\n",
    "\n",
    "`PassiveTDAgent` uses temporal differences to learn utility estimates. We learn the difference between the states and backup the values to previous states.  Let us look into the source before we see some usage examples."
   ]
  },
  {
   "cell_type": "code",
   "execution_count": 105,
   "metadata": {},
   "outputs": [
    {
     "name": "stdout",
     "output_type": "stream",
     "text": [
      "\u001b[1;32mclass\u001b[0m \u001b[0mPassiveTDAgent\u001b[0m\u001b[1;33m:\u001b[0m\u001b[1;33m\n",
      "\u001b[0m    \u001b[1;34m\"\"\"\n",
      "    [Figure 21.4]\n",
      "    The abstract class for a Passive (non-learning) agent that uses\n",
      "    temporal differences to learn utility estimates. Override update_state\n",
      "    method to convert percept to state and reward. The mdp being provided\n",
      "    should be an instance of a subclass of the MDP Class.\n",
      "\n",
      "    import sys\n",
      "    from mdp import sequential_decision_environment\n",
      "    north = (0, 1)\n",
      "    south = (0,-1)\n",
      "    west = (-1, 0)\n",
      "    east = (1, 0)\n",
      "    policy = {(0, 2): east, (1, 2): east, (2, 2): east, (3, 2): None, (0, 1): north, (2, 1): north,\n",
      "              (3, 1): None, (0, 0): north, (1, 0): west, (2, 0): west, (3, 0): west,}\n",
      "    agent = PassiveTDAgent(policy, sequential_decision_environment, alpha=lambda n: 60./(59+n))\n",
      "    for i in range(200):\n",
      "        run_single_trial(agent,sequential_decision_environment)\n",
      "\n",
      "    agent.U[(0, 0)] > 0.2\n",
      "    True\n",
      "    agent.U[(0, 1)] > 0.2\n",
      "    True\n",
      "    \"\"\"\u001b[0m\u001b[1;33m\n",
      "\u001b[0m\u001b[1;33m\n",
      "\u001b[0m    \u001b[1;32mdef\u001b[0m \u001b[0m__init__\u001b[0m\u001b[1;33m(\u001b[0m\u001b[0mself\u001b[0m\u001b[1;33m,\u001b[0m \u001b[0mpi\u001b[0m\u001b[1;33m,\u001b[0m \u001b[0mmdp\u001b[0m\u001b[1;33m,\u001b[0m \u001b[0malpha\u001b[0m\u001b[1;33m=\u001b[0m\u001b[1;32mNone\u001b[0m\u001b[1;33m)\u001b[0m\u001b[1;33m:\u001b[0m\u001b[1;33m\n",
      "\u001b[0m\u001b[1;33m\n",
      "\u001b[0m        \u001b[0mself\u001b[0m\u001b[1;33m.\u001b[0m\u001b[0mpi\u001b[0m \u001b[1;33m=\u001b[0m \u001b[0mpi\u001b[0m\u001b[1;33m\n",
      "\u001b[0m        \u001b[0mself\u001b[0m\u001b[1;33m.\u001b[0m\u001b[0mU\u001b[0m \u001b[1;33m=\u001b[0m \u001b[1;33m{\u001b[0m\u001b[0ms\u001b[0m\u001b[1;33m:\u001b[0m \u001b[1;36m0.\u001b[0m \u001b[1;32mfor\u001b[0m \u001b[0ms\u001b[0m \u001b[1;32min\u001b[0m \u001b[0mmdp\u001b[0m\u001b[1;33m.\u001b[0m\u001b[0mstates\u001b[0m\u001b[1;33m}\u001b[0m\u001b[1;33m\n",
      "\u001b[0m        \u001b[0mself\u001b[0m\u001b[1;33m.\u001b[0m\u001b[0mNs\u001b[0m \u001b[1;33m=\u001b[0m \u001b[1;33m{\u001b[0m\u001b[0ms\u001b[0m\u001b[1;33m:\u001b[0m \u001b[1;36m0\u001b[0m \u001b[1;32mfor\u001b[0m \u001b[0ms\u001b[0m \u001b[1;32min\u001b[0m \u001b[0mmdp\u001b[0m\u001b[1;33m.\u001b[0m\u001b[0mstates\u001b[0m\u001b[1;33m}\u001b[0m\u001b[1;33m\n",
      "\u001b[0m        \u001b[0mself\u001b[0m\u001b[1;33m.\u001b[0m\u001b[0ms\u001b[0m \u001b[1;33m=\u001b[0m \u001b[1;32mNone\u001b[0m\u001b[1;33m\n",
      "\u001b[0m        \u001b[0mself\u001b[0m\u001b[1;33m.\u001b[0m\u001b[0ma\u001b[0m \u001b[1;33m=\u001b[0m \u001b[1;32mNone\u001b[0m\u001b[1;33m\n",
      "\u001b[0m        \u001b[0mself\u001b[0m\u001b[1;33m.\u001b[0m\u001b[0mr\u001b[0m \u001b[1;33m=\u001b[0m \u001b[1;32mNone\u001b[0m\u001b[1;33m\n",
      "\u001b[0m        \u001b[0mself\u001b[0m\u001b[1;33m.\u001b[0m\u001b[0mgamma\u001b[0m \u001b[1;33m=\u001b[0m \u001b[0mmdp\u001b[0m\u001b[1;33m.\u001b[0m\u001b[0mgamma\u001b[0m\u001b[1;33m\n",
      "\u001b[0m        \u001b[0mself\u001b[0m\u001b[1;33m.\u001b[0m\u001b[0mterminals\u001b[0m \u001b[1;33m=\u001b[0m \u001b[0mmdp\u001b[0m\u001b[1;33m.\u001b[0m\u001b[0mterminals\u001b[0m\u001b[1;33m\n",
      "\u001b[0m\u001b[1;33m\n",
      "\u001b[0m        \u001b[1;32mif\u001b[0m \u001b[0malpha\u001b[0m\u001b[1;33m:\u001b[0m\u001b[1;33m\n",
      "\u001b[0m            \u001b[0mself\u001b[0m\u001b[1;33m.\u001b[0m\u001b[0malpha\u001b[0m \u001b[1;33m=\u001b[0m \u001b[0malpha\u001b[0m\u001b[1;33m\n",
      "\u001b[0m        \u001b[1;32melse\u001b[0m\u001b[1;33m:\u001b[0m\u001b[1;33m\n",
      "\u001b[0m            \u001b[0mself\u001b[0m\u001b[1;33m.\u001b[0m\u001b[0malpha\u001b[0m \u001b[1;33m=\u001b[0m \u001b[1;32mlambda\u001b[0m \u001b[0mn\u001b[0m\u001b[1;33m:\u001b[0m \u001b[1;36m1\u001b[0m \u001b[1;33m/\u001b[0m \u001b[1;33m(\u001b[0m\u001b[1;36m1\u001b[0m \u001b[1;33m+\u001b[0m \u001b[0mn\u001b[0m\u001b[1;33m)\u001b[0m  \u001b[1;31m# udacity video\u001b[0m\u001b[1;33m\n",
      "\u001b[0m\u001b[1;33m\n",
      "\u001b[0m    \u001b[1;32mdef\u001b[0m \u001b[0m__call__\u001b[0m\u001b[1;33m(\u001b[0m\u001b[0mself\u001b[0m\u001b[1;33m,\u001b[0m \u001b[0mpercept\u001b[0m\u001b[1;33m)\u001b[0m\u001b[1;33m:\u001b[0m\u001b[1;33m\n",
      "\u001b[0m        \u001b[0ms1\u001b[0m\u001b[1;33m,\u001b[0m \u001b[0mr1\u001b[0m \u001b[1;33m=\u001b[0m \u001b[0mself\u001b[0m\u001b[1;33m.\u001b[0m\u001b[0mupdate_state\u001b[0m\u001b[1;33m(\u001b[0m\u001b[0mpercept\u001b[0m\u001b[1;33m)\u001b[0m\u001b[1;33m\n",
      "\u001b[0m        \u001b[0mpi\u001b[0m\u001b[1;33m,\u001b[0m \u001b[0mU\u001b[0m\u001b[1;33m,\u001b[0m \u001b[0mNs\u001b[0m\u001b[1;33m,\u001b[0m \u001b[0ms\u001b[0m\u001b[1;33m,\u001b[0m \u001b[0mr\u001b[0m \u001b[1;33m=\u001b[0m \u001b[0mself\u001b[0m\u001b[1;33m.\u001b[0m\u001b[0mpi\u001b[0m\u001b[1;33m,\u001b[0m \u001b[0mself\u001b[0m\u001b[1;33m.\u001b[0m\u001b[0mU\u001b[0m\u001b[1;33m,\u001b[0m \u001b[0mself\u001b[0m\u001b[1;33m.\u001b[0m\u001b[0mNs\u001b[0m\u001b[1;33m,\u001b[0m \u001b[0mself\u001b[0m\u001b[1;33m.\u001b[0m\u001b[0ms\u001b[0m\u001b[1;33m,\u001b[0m \u001b[0mself\u001b[0m\u001b[1;33m.\u001b[0m\u001b[0mr\u001b[0m\u001b[1;33m\n",
      "\u001b[0m        \u001b[0malpha\u001b[0m\u001b[1;33m,\u001b[0m \u001b[0mgamma\u001b[0m\u001b[1;33m,\u001b[0m \u001b[0mterminals\u001b[0m \u001b[1;33m=\u001b[0m \u001b[0mself\u001b[0m\u001b[1;33m.\u001b[0m\u001b[0malpha\u001b[0m\u001b[1;33m,\u001b[0m \u001b[0mself\u001b[0m\u001b[1;33m.\u001b[0m\u001b[0mgamma\u001b[0m\u001b[1;33m,\u001b[0m \u001b[0mself\u001b[0m\u001b[1;33m.\u001b[0m\u001b[0mterminals\u001b[0m\u001b[1;33m\n",
      "\u001b[0m        \u001b[1;32mif\u001b[0m \u001b[1;32mnot\u001b[0m \u001b[0mNs\u001b[0m\u001b[1;33m[\u001b[0m\u001b[0ms1\u001b[0m\u001b[1;33m]\u001b[0m\u001b[1;33m:\u001b[0m\u001b[1;33m\n",
      "\u001b[0m            \u001b[0mU\u001b[0m\u001b[1;33m[\u001b[0m\u001b[0ms1\u001b[0m\u001b[1;33m]\u001b[0m \u001b[1;33m=\u001b[0m \u001b[0mr1\u001b[0m\u001b[1;33m\n",
      "\u001b[0m        \u001b[1;32mif\u001b[0m \u001b[0ms\u001b[0m \u001b[1;32mis\u001b[0m \u001b[1;32mnot\u001b[0m \u001b[1;32mNone\u001b[0m\u001b[1;33m:\u001b[0m\u001b[1;33m\n",
      "\u001b[0m            \u001b[0mNs\u001b[0m\u001b[1;33m[\u001b[0m\u001b[0ms\u001b[0m\u001b[1;33m]\u001b[0m \u001b[1;33m+=\u001b[0m \u001b[1;36m1\u001b[0m\u001b[1;33m\n",
      "\u001b[0m            \u001b[0mU\u001b[0m\u001b[1;33m[\u001b[0m\u001b[0ms\u001b[0m\u001b[1;33m]\u001b[0m \u001b[1;33m+=\u001b[0m \u001b[0malpha\u001b[0m\u001b[1;33m(\u001b[0m\u001b[0mNs\u001b[0m\u001b[1;33m[\u001b[0m\u001b[0ms\u001b[0m\u001b[1;33m]\u001b[0m\u001b[1;33m)\u001b[0m \u001b[1;33m*\u001b[0m \u001b[1;33m(\u001b[0m\u001b[0mr\u001b[0m \u001b[1;33m+\u001b[0m \u001b[0mgamma\u001b[0m \u001b[1;33m*\u001b[0m \u001b[0mU\u001b[0m\u001b[1;33m[\u001b[0m\u001b[0ms1\u001b[0m\u001b[1;33m]\u001b[0m \u001b[1;33m-\u001b[0m \u001b[0mU\u001b[0m\u001b[1;33m[\u001b[0m\u001b[0ms\u001b[0m\u001b[1;33m]\u001b[0m\u001b[1;33m)\u001b[0m\u001b[1;33m\n",
      "\u001b[0m        \u001b[1;32mif\u001b[0m \u001b[0ms1\u001b[0m \u001b[1;32min\u001b[0m \u001b[0mterminals\u001b[0m\u001b[1;33m:\u001b[0m\u001b[1;33m\n",
      "\u001b[0m            \u001b[0mself\u001b[0m\u001b[1;33m.\u001b[0m\u001b[0ms\u001b[0m \u001b[1;33m=\u001b[0m \u001b[0mself\u001b[0m\u001b[1;33m.\u001b[0m\u001b[0ma\u001b[0m \u001b[1;33m=\u001b[0m \u001b[0mself\u001b[0m\u001b[1;33m.\u001b[0m\u001b[0mr\u001b[0m \u001b[1;33m=\u001b[0m \u001b[1;32mNone\u001b[0m\u001b[1;33m\n",
      "\u001b[0m        \u001b[1;32melse\u001b[0m\u001b[1;33m:\u001b[0m\u001b[1;33m\n",
      "\u001b[0m            \u001b[0mself\u001b[0m\u001b[1;33m.\u001b[0m\u001b[0ms\u001b[0m\u001b[1;33m,\u001b[0m \u001b[0mself\u001b[0m\u001b[1;33m.\u001b[0m\u001b[0ma\u001b[0m\u001b[1;33m,\u001b[0m \u001b[0mself\u001b[0m\u001b[1;33m.\u001b[0m\u001b[0mr\u001b[0m \u001b[1;33m=\u001b[0m \u001b[0ms1\u001b[0m\u001b[1;33m,\u001b[0m \u001b[0mpi\u001b[0m\u001b[1;33m[\u001b[0m\u001b[0ms1\u001b[0m\u001b[1;33m]\u001b[0m\u001b[1;33m,\u001b[0m \u001b[0mr1\u001b[0m\u001b[1;33m\n",
      "\u001b[0m        \u001b[1;32mreturn\u001b[0m \u001b[0mself\u001b[0m\u001b[1;33m.\u001b[0m\u001b[0ma\u001b[0m\u001b[1;33m\n",
      "\u001b[0m\u001b[1;33m\n",
      "\u001b[0m    \u001b[1;32mdef\u001b[0m \u001b[0mupdate_state\u001b[0m\u001b[1;33m(\u001b[0m\u001b[0mself\u001b[0m\u001b[1;33m,\u001b[0m \u001b[0mpercept\u001b[0m\u001b[1;33m)\u001b[0m\u001b[1;33m:\u001b[0m\u001b[1;33m\n",
      "\u001b[0m        \u001b[1;34m\"\"\"To be overridden in most cases. The default case\n",
      "        assumes the percept to be of type (state, reward).\"\"\"\u001b[0m\u001b[1;33m\n",
      "\u001b[0m        \u001b[1;32mreturn\u001b[0m \u001b[0mpercept\u001b[0m\u001b[1;33m\u001b[0m\u001b[1;33m\u001b[0m\u001b[0m\n"
     ]
    }
   ],
   "source": [
    "%psource PassiveTDAgent"
   ]
  },
  {
   "cell_type": "markdown",
   "metadata": {},
   "source": [
    "In creating the `TDAgent`, we use the **same learning rate** $\\alpha$ as given in the footnote of the book on **page 837**."
   ]
  },
  {
   "cell_type": "code",
   "execution_count": 106,
   "metadata": {},
   "outputs": [],
   "source": [
    "TDagent = PassiveTDAgent(policy, sequential_decision_environment, alpha = lambda n: 60./(59+n))"
   ]
  },
  {
   "cell_type": "markdown",
   "metadata": {},
   "source": [
    "Now we run **200 trials** for the agent to estimate Utilities."
   ]
  },
  {
   "cell_type": "code",
   "execution_count": 107,
   "metadata": {},
   "outputs": [],
   "source": [
    "for i in range(200):\n",
    "    run_single_trial(TDagent,sequential_decision_environment)"
   ]
  },
  {
   "cell_type": "markdown",
   "metadata": {},
   "source": [
    "The calculated utilities are:"
   ]
  },
  {
   "cell_type": "code",
   "execution_count": 108,
   "metadata": {},
   "outputs": [
    {
     "name": "stdout",
     "output_type": "stream",
     "text": [
      "(4, 0):-3.776592437760811\n",
      "(3, 4):-0.6890015671086918\n",
      "(4, 3):0.0\n",
      "(3, 1):-10.068560673753828\n",
      "(3, 7):5.643518354335809\n",
      "(4, 6):5.62898359431928\n",
      "(5, 1):-4.995111509706312\n",
      "(5, 7):6.90561090728745\n",
      "(0, 2):-10.233678226140626\n",
      "(0, 5):2.7048516562445117\n",
      "(2, 2):-6.482755883920653\n",
      "(1, 0):-2.507578633025894\n",
      "(1, 6):3.907602158119431\n",
      "(2, 5):-8.717203915950991\n",
      "(1, 3):-0.23989053677920769\n",
      "(7, 4):-7.785761829981916\n",
      "(6, 2):-6.6383890209673355\n",
      "(7, 1):-5.490350688478396\n",
      "(7, 7):10\n",
      "(6, 5):4.6485269544012935\n",
      "(4, 2):-14.561886905021675\n",
      "(3, 0):-3.270863330347803\n",
      "(4, 5):-0.07600000000000001\n",
      "(3, 3):-7.931495145682831\n",
      "(5, 0):-3.362726053381414\n",
      "(5, 6):6.1193208196557904\n",
      "(3, 6):4.105103895130135\n",
      "(5, 3):-4.413776172731517\n",
      "(0, 1):-5.335648504086942\n",
      "(0, 7):3.3149640477954776\n",
      "(2, 4):-8.69415643979331\n",
      "(1, 2):-2.848379659659668\n",
      "(0, 4):0.42355802522341723\n",
      "(2, 1):-4.303102259421593\n",
      "(2, 7):4.375490792322571\n",
      "(1, 5):2.269735591191042\n",
      "(6, 1):-4.732843897474174\n",
      "(7, 0):-4.6485910749908355\n",
      "(7, 3):-8.782823504319902\n",
      "(6, 7):8.959944621731747\n",
      "(7, 6):8.753706246773886\n",
      "(3, 2):-0.9499434311562966\n",
      "(4, 1):-5.078689749513487\n",
      "(4, 7):6.8610151147869765\n",
      "(3, 5):-9.092861092920089\n",
      "(5, 2):-15.168512261858266\n",
      "(5, 5):2.236638059192582\n",
      "(0, 0):-2.6701841150190364\n",
      "(1, 1):-3.9245869803040945\n",
      "(0, 3):-1.323188395058835\n",
      "(2, 0):-2.8717637679200467\n",
      "(1, 4):1.3031417471065065\n",
      "(0, 6):2.344565994955226\n",
      "(2, 3):-7.007447500138662\n",
      "(1, 7):4.422880775596586\n",
      "(2, 6):2.1923333647039924\n",
      "(7, 2):-7.332481949665257\n",
      "(6, 0):-3.864878432201324\n",
      "(6, 6):7.628562039466932\n",
      "(7, 5):5.844409090997742\n",
      "(6, 3):-6.781101867000468\n"
     ]
    }
   ],
   "source": [
    "print('\\n'.join([str(k)+':'+str(v) for k, v in TDagent.U.items()]))"
   ]
  },
  {
   "cell_type": "markdown",
   "metadata": {},
   "source": [
    "## Comparison with value iteration method\n",
    "\n",
    "We can also compare the utility estimates learned by our agent to those obtained via **value iteration**.\n",
    "\n",
    "**Note that value iteration has a priori knowledge of the transition table $P$, the rewards $R$, and all the states $s$.**"
   ]
  },
  {
   "cell_type": "code",
   "execution_count": 109,
   "metadata": {},
   "outputs": [],
   "source": [
    "from mdp4e import value_iteration"
   ]
  },
  {
   "cell_type": "markdown",
   "metadata": {},
   "source": [
    "The values calculated by value iteration:"
   ]
  },
  {
   "cell_type": "code",
   "execution_count": 110,
   "metadata": {},
   "outputs": [
    {
     "name": "stdout",
     "output_type": "stream",
     "text": [
      "(4, 0):0.9592510249999024\n",
      "(3, 4):2.6349467338527726\n",
      "(4, 3):1.715247637279368\n",
      "(3, 1):1.3829435900868137\n",
      "(3, 7):5.494284372144781\n",
      "(4, 6):5.71406783878458\n",
      "(5, 1):-0.38535416824539664\n",
      "(5, 7):7.4193318608091126\n",
      "(0, 2):-9.820133506405137\n",
      "(0, 5):2.398260610591679\n",
      "(2, 2):1.4386419043106127\n",
      "(1, 0):0.8419079520284465\n",
      "(1, 6):3.328140145359859\n",
      "(2, 5):-7.287409284790501\n",
      "(1, 3):1.35543386148279\n",
      "(7, 4):-6.615198954254923\n",
      "(6, 2):-0.9589122799027445\n",
      "(7, 1):0.3059652579224845\n",
      "(7, 7):10\n",
      "(6, 5):6.466073568419178\n",
      "(4, 2):0.46900699946848556\n",
      "(3, 0):1.1324204929929418\n",
      "(4, 5):5.047704330346447\n",
      "(3, 3):2.1648142058688427\n",
      "(5, 0):0.6768851565987255\n",
      "(5, 6):6.561871328703023\n",
      "(3, 6):4.866467118500668\n",
      "(5, 3):-0.7071236278313471\n",
      "(0, 1):-0.5590418580100129\n",
      "(0, 7):3.3553307744592225\n",
      "(2, 4):0.61089314654446\n",
      "(1, 2):0.24096024787873435\n",
      "(0, 4):2.0156579695723336\n",
      "(2, 1):1.2034360152593828\n",
      "(2, 7):4.605136138329179\n",
      "(1, 5):1.1737813827816246\n",
      "(6, 1):0.33027444592634125\n",
      "(7, 0):0.4010485406473782\n",
      "(7, 3):-1.0864248815234758\n",
      "(6, 7):8.612532741324099\n",
      "(7, 6):8.612532741324099\n",
      "(3, 2):1.6903529459331528\n",
      "(4, 1):1.0842575889164445\n",
      "(4, 7):6.391412137661514\n",
      "(3, 5):3.3094743157471176\n",
      "(5, 2):-9.760644243703277\n",
      "(5, 5):5.721034493234349\n",
      "(0, 0):0.5668618672320155\n",
      "(1, 1):0.9239257064850616\n",
      "(0, 3):0.6299584956901095\n",
      "(2, 0):1.004156957954898\n",
      "(1, 4):1.6389026141474854\n",
      "(0, 6):2.9399678678642167\n",
      "(2, 3):1.7031228274044974\n",
      "(1, 7):3.9288248666526107\n",
      "(2, 6):3.053212668940834\n",
      "(7, 2):0.10319973833239648\n",
      "(6, 0):0.5242419673584922\n",
      "(6, 6):7.526719940055513\n",
      "(7, 5):6.354912302099722\n",
      "(6, 3):-0.6982965935983698\n"
     ]
    }
   ],
   "source": [
    "U_values = value_iteration(sequential_decision_environment)\n",
    "print('\\n'.join([str(k)+':'+str(v) for k, v in U_values.items()]))"
   ]
  },
  {
   "cell_type": "markdown",
   "metadata": {},
   "source": [
    "## Evolution of utility estimates over iterations\n",
    "\n",
    "We can explore how these estimates vary with time by using plots similar to **Fig 21.5a**. We will first enable matplotlib using the inline backend. We also define a function to collect the values of utilities at each iteration."
   ]
  },
  {
   "cell_type": "code",
   "execution_count": 111,
   "metadata": {},
   "outputs": [],
   "source": [
    "%matplotlib inline\n",
    "import matplotlib.pyplot as plt\n",
    "\n",
    "def graph_utility_estimates(agent_program, mdp, no_of_iterations, states_to_graph):\n",
    "    graphs = {state:[] for state in states_to_graph}\n",
    "    for iteration in range(1,no_of_iterations+1):\n",
    "        run_single_trial(agent_program, mdp)\n",
    "        for state in states_to_graph:\n",
    "            graphs[state].append((iteration, agent_program.U[state]))\n",
    "    for state, value in graphs.items():\n",
    "        state_x, state_y = zip(*value)\n",
    "        plt.plot(state_x, state_y, label=str(state))\n",
    "    #plt.ylim([0,1.2])\n",
    "    plt.legend(loc='lower right')\n",
    "    plt.xlabel('Iterations')\n",
    "    plt.ylabel('U')"
   ]
  },
  {
   "cell_type": "markdown",
   "metadata": {},
   "source": [
    "Here is a plot of state $(2,2)$."
   ]
  },
  {
   "cell_type": "code",
   "execution_count": 112,
   "metadata": {},
   "outputs": [
    {
     "data": {
      "image/png": "[encoded data removed]",
      "text/plain": [
       "<Figure size 432x288 with 1 Axes>"
      ]
     },
     "metadata": {
      "needs_background": "light"
     },
     "output_type": "display_data"
    }
   ],
   "source": [
    "agent = PassiveTDAgent(policy, sequential_decision_environment, alpha=lambda n: 60./(59+n))\n",
    "graph_utility_estimates(agent, sequential_decision_environment, 500, [(2,2)])"
   ]
  },
  {
   "cell_type": "markdown",
   "metadata": {},
   "source": [
    "It is also possible to plot multiple states on the same plot. As expected, the utility of the finite state $(3,2)$ stays constant and is equal to $R((3,2)) = 1$."
   ]
  },
  {
   "cell_type": "code",
   "execution_count": 113,
   "metadata": {},
   "outputs": [
    {
     "data": {
      "image/png": "[encoded data removed]",
      "text/plain": [
       "<Figure size 432x288 with 1 Axes>"
      ]
     },
     "metadata": {
      "needs_background": "light"
     },
     "output_type": "display_data"
    }
   ],
   "source": [
    "graph_utility_estimates(agent, sequential_decision_environment, 500, [(2,2), (3,2)])"
   ]
  },
  {
   "cell_type": "markdown",
   "metadata": {
    "collapsed": true
   },
   "source": [
    "## ACTIVE REINFORCEMENT LEARNING\n",
    "\n",
    "Unlike Passive Reinforcement Learning in Active Reinforcement Learning we are not bound by a policy pi and we need to select our actions. In other words the agent needs to learn an optimal policy. The fundamental tradeoff the agent needs to face is that of exploration vs. exploitation. "
   ]
  },
  {
   "cell_type": "markdown",
   "metadata": {},
   "source": [
    "### QLearning Agent\n",
    "\n",
    "The QLearningAgent class in the rl module implements the Agent Program described in **Fig 21.8** of the AIMA Book. In Q-Learning the agent learns an action-value function Q which gives the utility of taking a given action in a particular state. Q-Learning does not required a transition model and hence is a model free method. Let us look into the source before we see some usage examples."
   ]
  },
  {
   "cell_type": "code",
   "execution_count": 114,
   "metadata": {},
   "outputs": [
    {
     "name": "stdout",
     "output_type": "stream",
     "text": [
      "\u001b[1;32mclass\u001b[0m \u001b[0mQLearningAgent\u001b[0m\u001b[1;33m:\u001b[0m\u001b[1;33m\n",
      "\u001b[0m    \u001b[1;34m\"\"\"\n",
      "    [Figure 21.8]\n",
      "    An exploratory Q-learning agent. It avoids having to learn the transition\n",
      "    model because the Q-value of a state can be related directly to those of\n",
      "    its neighbors.\n",
      "\n",
      "    import sys\n",
      "    from mdp import sequential_decision_environment\n",
      "    north = (0, 1)\n",
      "    south = (0,-1)\n",
      "    west = (-1, 0)\n",
      "    east = (1, 0)\n",
      "    policy = {(0, 2): east, (1, 2): east, (2, 2): east, (3, 2): None, (0, 1): north, (2, 1): north,\n",
      "              (3, 1): None, (0, 0): north, (1, 0): west, (2, 0): west, (3, 0): west,}\n",
      "    q_agent = QLearningAgent(sequential_decision_environment, Ne=5, Rplus=2, alpha=lambda n: 60./(59+n))\n",
      "    for i in range(200):\n",
      "        run_single_trial(q_agent,sequential_decision_environment)\n",
      "\n",
      "    q_agent.Q[((0, 1), (0, 1))] >= -0.5\n",
      "    True\n",
      "    q_agent.Q[((1, 0), (0, -1))] <= 0.5\n",
      "    True\n",
      "    \"\"\"\u001b[0m\u001b[1;33m\n",
      "\u001b[0m\u001b[1;33m\n",
      "\u001b[0m    \u001b[1;32mdef\u001b[0m \u001b[0m__init__\u001b[0m\u001b[1;33m(\u001b[0m\u001b[0mself\u001b[0m\u001b[1;33m,\u001b[0m \u001b[0mmdp\u001b[0m\u001b[1;33m,\u001b[0m \u001b[0mNe\u001b[0m\u001b[1;33m,\u001b[0m \u001b[0mRplus\u001b[0m\u001b[1;33m,\u001b[0m \u001b[0malpha\u001b[0m\u001b[1;33m=\u001b[0m\u001b[1;32mNone\u001b[0m\u001b[1;33m)\u001b[0m\u001b[1;33m:\u001b[0m\u001b[1;33m\n",
      "\u001b[0m\u001b[1;33m\n",
      "\u001b[0m        \u001b[0mself\u001b[0m\u001b[1;33m.\u001b[0m\u001b[0mgamma\u001b[0m \u001b[1;33m=\u001b[0m \u001b[0mmdp\u001b[0m\u001b[1;33m.\u001b[0m\u001b[0mgamma\u001b[0m\u001b[1;33m\n",
      "\u001b[0m        \u001b[0mself\u001b[0m\u001b[1;33m.\u001b[0m\u001b[0mterminals\u001b[0m \u001b[1;33m=\u001b[0m \u001b[0mmdp\u001b[0m\u001b[1;33m.\u001b[0m\u001b[0mterminals\u001b[0m\u001b[1;33m\n",
      "\u001b[0m        \u001b[0mself\u001b[0m\u001b[1;33m.\u001b[0m\u001b[0mall_act\u001b[0m \u001b[1;33m=\u001b[0m \u001b[0mmdp\u001b[0m\u001b[1;33m.\u001b[0m\u001b[0mactlist\u001b[0m\u001b[1;33m\n",
      "\u001b[0m        \u001b[0mself\u001b[0m\u001b[1;33m.\u001b[0m\u001b[0mNe\u001b[0m \u001b[1;33m=\u001b[0m \u001b[0mNe\u001b[0m  \u001b[1;31m# iteration limit in exploration function\u001b[0m\u001b[1;33m\n",
      "\u001b[0m        \u001b[0mself\u001b[0m\u001b[1;33m.\u001b[0m\u001b[0mRplus\u001b[0m \u001b[1;33m=\u001b[0m \u001b[0mRplus\u001b[0m  \u001b[1;31m# large value to assign before iteration limit\u001b[0m\u001b[1;33m\n",
      "\u001b[0m        \u001b[0mself\u001b[0m\u001b[1;33m.\u001b[0m\u001b[0mQ\u001b[0m \u001b[1;33m=\u001b[0m \u001b[0mdefaultdict\u001b[0m\u001b[1;33m(\u001b[0m\u001b[0mfloat\u001b[0m\u001b[1;33m)\u001b[0m\u001b[1;33m\n",
      "\u001b[0m        \u001b[0mself\u001b[0m\u001b[1;33m.\u001b[0m\u001b[0mNsa\u001b[0m \u001b[1;33m=\u001b[0m \u001b[0mdefaultdict\u001b[0m\u001b[1;33m(\u001b[0m\u001b[0mfloat\u001b[0m\u001b[1;33m)\u001b[0m\u001b[1;33m\n",
      "\u001b[0m        \u001b[0mself\u001b[0m\u001b[1;33m.\u001b[0m\u001b[0ms\u001b[0m \u001b[1;33m=\u001b[0m \u001b[1;32mNone\u001b[0m\u001b[1;33m\n",
      "\u001b[0m        \u001b[0mself\u001b[0m\u001b[1;33m.\u001b[0m\u001b[0ma\u001b[0m \u001b[1;33m=\u001b[0m \u001b[1;32mNone\u001b[0m\u001b[1;33m\n",
      "\u001b[0m        \u001b[0mself\u001b[0m\u001b[1;33m.\u001b[0m\u001b[0mr\u001b[0m \u001b[1;33m=\u001b[0m \u001b[1;32mNone\u001b[0m\u001b[1;33m\n",
      "\u001b[0m\u001b[1;33m\n",
      "\u001b[0m        \u001b[1;32mif\u001b[0m \u001b[0malpha\u001b[0m\u001b[1;33m:\u001b[0m\u001b[1;33m\n",
      "\u001b[0m            \u001b[0mself\u001b[0m\u001b[1;33m.\u001b[0m\u001b[0malpha\u001b[0m \u001b[1;33m=\u001b[0m \u001b[0malpha\u001b[0m\u001b[1;33m\n",
      "\u001b[0m        \u001b[1;32melse\u001b[0m\u001b[1;33m:\u001b[0m\u001b[1;33m\n",
      "\u001b[0m            \u001b[0mself\u001b[0m\u001b[1;33m.\u001b[0m\u001b[0malpha\u001b[0m \u001b[1;33m=\u001b[0m \u001b[1;32mlambda\u001b[0m \u001b[0mn\u001b[0m\u001b[1;33m:\u001b[0m \u001b[1;36m1.\u001b[0m \u001b[1;33m/\u001b[0m \u001b[1;33m(\u001b[0m\u001b[1;36m1\u001b[0m \u001b[1;33m+\u001b[0m \u001b[0mn\u001b[0m\u001b[1;33m)\u001b[0m  \u001b[1;31m# udacity video\u001b[0m\u001b[1;33m\n",
      "\u001b[0m\u001b[1;33m\n",
      "\u001b[0m    \u001b[1;32mdef\u001b[0m \u001b[0mf\u001b[0m\u001b[1;33m(\u001b[0m\u001b[0mself\u001b[0m\u001b[1;33m,\u001b[0m \u001b[0mu\u001b[0m\u001b[1;33m,\u001b[0m \u001b[0mn\u001b[0m\u001b[1;33m)\u001b[0m\u001b[1;33m:\u001b[0m\u001b[1;33m\n",
      "\u001b[0m        \u001b[1;34m\"\"\"Exploration function. Returns fixed Rplus until\n",
      "        agent has visited state, action a Ne number of times.\n",
      "        Same as ADP agent in book.\"\"\"\u001b[0m\u001b[1;33m\n",
      "\u001b[0m        \u001b[1;32mif\u001b[0m \u001b[0mn\u001b[0m \u001b[1;33m<\u001b[0m \u001b[0mself\u001b[0m\u001b[1;33m.\u001b[0m\u001b[0mNe\u001b[0m\u001b[1;33m:\u001b[0m\u001b[1;33m\n",
      "\u001b[0m            \u001b[1;32mreturn\u001b[0m \u001b[0mself\u001b[0m\u001b[1;33m.\u001b[0m\u001b[0mRplus\u001b[0m\u001b[1;33m\n",
      "\u001b[0m        \u001b[1;32melse\u001b[0m\u001b[1;33m:\u001b[0m\u001b[1;33m\n",
      "\u001b[0m            \u001b[1;32mreturn\u001b[0m \u001b[0mu\u001b[0m\u001b[1;33m\n",
      "\u001b[0m\u001b[1;33m\n",
      "\u001b[0m    \u001b[1;32mdef\u001b[0m \u001b[0mactions_in_state\u001b[0m\u001b[1;33m(\u001b[0m\u001b[0mself\u001b[0m\u001b[1;33m,\u001b[0m \u001b[0mstate\u001b[0m\u001b[1;33m)\u001b[0m\u001b[1;33m:\u001b[0m\u001b[1;33m\n",
      "\u001b[0m        \u001b[1;34m\"\"\"Return actions possible in given state.\n",
      "        Useful for max and argmax.\"\"\"\u001b[0m\u001b[1;33m\n",
      "\u001b[0m        \u001b[1;32mif\u001b[0m \u001b[0mstate\u001b[0m \u001b[1;32min\u001b[0m \u001b[0mself\u001b[0m\u001b[1;33m.\u001b[0m\u001b[0mterminals\u001b[0m\u001b[1;33m:\u001b[0m\u001b[1;33m\n",
      "\u001b[0m            \u001b[1;32mreturn\u001b[0m \u001b[1;33m[\u001b[0m\u001b[1;32mNone\u001b[0m\u001b[1;33m]\u001b[0m\u001b[1;33m\n",
      "\u001b[0m        \u001b[1;32melse\u001b[0m\u001b[1;33m:\u001b[0m\u001b[1;33m\n",
      "\u001b[0m            \u001b[1;32mreturn\u001b[0m \u001b[0mself\u001b[0m\u001b[1;33m.\u001b[0m\u001b[0mall_act\u001b[0m\u001b[1;33m\n",
      "\u001b[0m\u001b[1;33m\n",
      "\u001b[0m    \u001b[1;32mdef\u001b[0m \u001b[0m__call__\u001b[0m\u001b[1;33m(\u001b[0m\u001b[0mself\u001b[0m\u001b[1;33m,\u001b[0m \u001b[0mpercept\u001b[0m\u001b[1;33m)\u001b[0m\u001b[1;33m:\u001b[0m\u001b[1;33m\n",
      "\u001b[0m        \u001b[0ms1\u001b[0m\u001b[1;33m,\u001b[0m \u001b[0mr1\u001b[0m \u001b[1;33m=\u001b[0m \u001b[0mself\u001b[0m\u001b[1;33m.\u001b[0m\u001b[0mupdate_state\u001b[0m\u001b[1;33m(\u001b[0m\u001b[0mpercept\u001b[0m\u001b[1;33m)\u001b[0m\u001b[1;33m\n",
      "\u001b[0m        \u001b[0mQ\u001b[0m\u001b[1;33m,\u001b[0m \u001b[0mNsa\u001b[0m\u001b[1;33m,\u001b[0m \u001b[0ms\u001b[0m\u001b[1;33m,\u001b[0m \u001b[0ma\u001b[0m\u001b[1;33m,\u001b[0m \u001b[0mr\u001b[0m \u001b[1;33m=\u001b[0m \u001b[0mself\u001b[0m\u001b[1;33m.\u001b[0m\u001b[0mQ\u001b[0m\u001b[1;33m,\u001b[0m \u001b[0mself\u001b[0m\u001b[1;33m.\u001b[0m\u001b[0mNsa\u001b[0m\u001b[1;33m,\u001b[0m \u001b[0mself\u001b[0m\u001b[1;33m.\u001b[0m\u001b[0ms\u001b[0m\u001b[1;33m,\u001b[0m \u001b[0mself\u001b[0m\u001b[1;33m.\u001b[0m\u001b[0ma\u001b[0m\u001b[1;33m,\u001b[0m \u001b[0mself\u001b[0m\u001b[1;33m.\u001b[0m\u001b[0mr\u001b[0m\u001b[1;33m\n",
      "\u001b[0m        \u001b[0malpha\u001b[0m\u001b[1;33m,\u001b[0m \u001b[0mgamma\u001b[0m\u001b[1;33m,\u001b[0m \u001b[0mterminals\u001b[0m \u001b[1;33m=\u001b[0m \u001b[0mself\u001b[0m\u001b[1;33m.\u001b[0m\u001b[0malpha\u001b[0m\u001b[1;33m,\u001b[0m \u001b[0mself\u001b[0m\u001b[1;33m.\u001b[0m\u001b[0mgamma\u001b[0m\u001b[1;33m,\u001b[0m \u001b[0mself\u001b[0m\u001b[1;33m.\u001b[0m\u001b[0mterminals\u001b[0m\u001b[1;33m,\u001b[0m\u001b[1;33m\n",
      "\u001b[0m        \u001b[0mactions_in_state\u001b[0m \u001b[1;33m=\u001b[0m \u001b[0mself\u001b[0m\u001b[1;33m.\u001b[0m\u001b[0mactions_in_state\u001b[0m\u001b[1;33m\n",
      "\u001b[0m\u001b[1;33m\n",
      "\u001b[0m        \u001b[1;32mif\u001b[0m \u001b[0ms\u001b[0m \u001b[1;32min\u001b[0m \u001b[0mterminals\u001b[0m\u001b[1;33m:\u001b[0m\u001b[1;33m\n",
      "\u001b[0m            \u001b[0mQ\u001b[0m\u001b[1;33m[\u001b[0m\u001b[0ms\u001b[0m\u001b[1;33m,\u001b[0m \u001b[1;32mNone\u001b[0m\u001b[1;33m]\u001b[0m \u001b[1;33m=\u001b[0m \u001b[0mr1\u001b[0m\u001b[1;33m\n",
      "\u001b[0m        \u001b[1;32mif\u001b[0m \u001b[0ms\u001b[0m \u001b[1;32mis\u001b[0m \u001b[1;32mnot\u001b[0m \u001b[1;32mNone\u001b[0m\u001b[1;33m:\u001b[0m\u001b[1;33m\n",
      "\u001b[0m            \u001b[0mNsa\u001b[0m\u001b[1;33m[\u001b[0m\u001b[0ms\u001b[0m\u001b[1;33m,\u001b[0m \u001b[0ma\u001b[0m\u001b[1;33m]\u001b[0m \u001b[1;33m+=\u001b[0m \u001b[1;36m1\u001b[0m\u001b[1;33m\n",
      "\u001b[0m            \u001b[0mQ\u001b[0m\u001b[1;33m[\u001b[0m\u001b[0ms\u001b[0m\u001b[1;33m,\u001b[0m \u001b[0ma\u001b[0m\u001b[1;33m]\u001b[0m \u001b[1;33m+=\u001b[0m \u001b[0malpha\u001b[0m\u001b[1;33m(\u001b[0m\u001b[0mNsa\u001b[0m\u001b[1;33m[\u001b[0m\u001b[0ms\u001b[0m\u001b[1;33m,\u001b[0m \u001b[0ma\u001b[0m\u001b[1;33m]\u001b[0m\u001b[1;33m)\u001b[0m \u001b[1;33m*\u001b[0m \u001b[1;33m(\u001b[0m\u001b[0mr\u001b[0m \u001b[1;33m+\u001b[0m \u001b[0mgamma\u001b[0m \u001b[1;33m*\u001b[0m \u001b[0mmax\u001b[0m\u001b[1;33m(\u001b[0m\u001b[0mQ\u001b[0m\u001b[1;33m[\u001b[0m\u001b[0ms1\u001b[0m\u001b[1;33m,\u001b[0m \u001b[0ma1\u001b[0m\u001b[1;33m]\u001b[0m\u001b[1;33m\n",
      "\u001b[0m                                                           \u001b[1;32mfor\u001b[0m \u001b[0ma1\u001b[0m \u001b[1;32min\u001b[0m \u001b[0mactions_in_state\u001b[0m\u001b[1;33m(\u001b[0m\u001b[0ms1\u001b[0m\u001b[1;33m)\u001b[0m\u001b[1;33m)\u001b[0m \u001b[1;33m-\u001b[0m \u001b[0mQ\u001b[0m\u001b[1;33m[\u001b[0m\u001b[0ms\u001b[0m\u001b[1;33m,\u001b[0m \u001b[0ma\u001b[0m\u001b[1;33m]\u001b[0m\u001b[1;33m)\u001b[0m\u001b[1;33m\n",
      "\u001b[0m        \u001b[1;32mif\u001b[0m \u001b[0ms\u001b[0m \u001b[1;32min\u001b[0m \u001b[0mterminals\u001b[0m\u001b[1;33m:\u001b[0m\u001b[1;33m\n",
      "\u001b[0m            \u001b[0mself\u001b[0m\u001b[1;33m.\u001b[0m\u001b[0ms\u001b[0m \u001b[1;33m=\u001b[0m \u001b[0mself\u001b[0m\u001b[1;33m.\u001b[0m\u001b[0ma\u001b[0m \u001b[1;33m=\u001b[0m \u001b[0mself\u001b[0m\u001b[1;33m.\u001b[0m\u001b[0mr\u001b[0m \u001b[1;33m=\u001b[0m \u001b[1;32mNone\u001b[0m\u001b[1;33m\n",
      "\u001b[0m        \u001b[1;32melse\u001b[0m\u001b[1;33m:\u001b[0m\u001b[1;33m\n",
      "\u001b[0m            \u001b[0mself\u001b[0m\u001b[1;33m.\u001b[0m\u001b[0ms\u001b[0m\u001b[1;33m,\u001b[0m \u001b[0mself\u001b[0m\u001b[1;33m.\u001b[0m\u001b[0mr\u001b[0m \u001b[1;33m=\u001b[0m \u001b[0ms1\u001b[0m\u001b[1;33m,\u001b[0m \u001b[0mr1\u001b[0m\u001b[1;33m\n",
      "\u001b[0m            \u001b[0mself\u001b[0m\u001b[1;33m.\u001b[0m\u001b[0ma\u001b[0m \u001b[1;33m=\u001b[0m \u001b[0mmax\u001b[0m\u001b[1;33m(\u001b[0m\u001b[0mactions_in_state\u001b[0m\u001b[1;33m(\u001b[0m\u001b[0ms1\u001b[0m\u001b[1;33m)\u001b[0m\u001b[1;33m,\u001b[0m \u001b[0mkey\u001b[0m\u001b[1;33m=\u001b[0m\u001b[1;32mlambda\u001b[0m \u001b[0ma1\u001b[0m\u001b[1;33m:\u001b[0m \u001b[0mself\u001b[0m\u001b[1;33m.\u001b[0m\u001b[0mf\u001b[0m\u001b[1;33m(\u001b[0m\u001b[0mQ\u001b[0m\u001b[1;33m[\u001b[0m\u001b[0ms1\u001b[0m\u001b[1;33m,\u001b[0m \u001b[0ma1\u001b[0m\u001b[1;33m]\u001b[0m\u001b[1;33m,\u001b[0m \u001b[0mNsa\u001b[0m\u001b[1;33m[\u001b[0m\u001b[0ms1\u001b[0m\u001b[1;33m,\u001b[0m \u001b[0ma1\u001b[0m\u001b[1;33m]\u001b[0m\u001b[1;33m)\u001b[0m\u001b[1;33m)\u001b[0m\u001b[1;33m\n",
      "\u001b[0m        \u001b[1;32mreturn\u001b[0m \u001b[0mself\u001b[0m\u001b[1;33m.\u001b[0m\u001b[0ma\u001b[0m\u001b[1;33m\n",
      "\u001b[0m\u001b[1;33m\n",
      "\u001b[0m    \u001b[1;32mdef\u001b[0m \u001b[0mupdate_state\u001b[0m\u001b[1;33m(\u001b[0m\u001b[0mself\u001b[0m\u001b[1;33m,\u001b[0m \u001b[0mpercept\u001b[0m\u001b[1;33m)\u001b[0m\u001b[1;33m:\u001b[0m\u001b[1;33m\n",
      "\u001b[0m        \u001b[1;34m\"\"\"To be overridden in most cases. The default case\n",
      "        assumes the percept to be of type (state, reward).\"\"\"\u001b[0m\u001b[1;33m\n",
      "\u001b[0m        \u001b[1;32mreturn\u001b[0m \u001b[0mpercept\u001b[0m\u001b[1;33m\u001b[0m\u001b[1;33m\u001b[0m\u001b[0m\n"
     ]
    }
   ],
   "source": [
    "%psource QLearningAgent"
   ]
  },
  {
   "cell_type": "markdown",
   "metadata": {},
   "source": [
    "The Agent Program can be obtained by creating the instance of the class by passing the appropriate parameters. Because of the __ call __ method the object that is created behaves like a callable and returns an appropriate action as most Agent Programs do. To instantiate the object we need a mdp similar to the PassiveTDAgent.\n",
    "\n",
    " Let us use the same GridMDP object we used above. **Figure 17.1 (sequential_decision_environment)** is similar to **Figure 21.1** but has some discounting as **gamma = 0.9**. The class also implements an exploration function **f** which returns fixed **Rplus** until agent has visited state, action **Ne** number of times. This is the same as the one defined on page **842** of the book. The method **actions_in_state** returns actions possible in given state. It is useful when applying max and argmax operations."
   ]
  },
  {
   "cell_type": "markdown",
   "metadata": {},
   "source": [
    "Let us create our object now. We also use the **same alpha** as given in the footnote of the book on **page 837**. We use **Rplus = 2** and **Ne = 5** as defined on page 843. **Fig 21.7**  "
   ]
  },
  {
   "cell_type": "code",
   "execution_count": 115,
   "metadata": {},
   "outputs": [],
   "source": [
    "q_agent = QLearningAgent(sequential_decision_environment, Ne=5, Rplus=2, \n",
    "                         alpha=lambda n: 60./(59+n))"
   ]
  },
  {
   "cell_type": "markdown",
   "metadata": {},
   "source": [
    "Now to try out the q_agent we make use of the **run_single_trial** function in rl.py (which was also used above). Let us use **200** iterations."
   ]
  },
  {
   "cell_type": "code",
   "execution_count": 116,
   "metadata": {},
   "outputs": [],
   "source": [
    "for i in range(200):\n",
    "    run_single_trial(q_agent,sequential_decision_environment)"
   ]
  },
  {
   "cell_type": "markdown",
   "metadata": {},
   "source": [
    "Now let us see the Q Values. The keys are state-action pairs. Where different actions correspond according to:\n",
    "\n",
    "north = (0, 1)\n",
    "south = (0,-1)\n",
    "west = (-1, 0)\n",
    "east = (1, 0)"
   ]
  },
  {
   "cell_type": "code",
   "execution_count": 117,
   "metadata": {},
   "outputs": [
    {
     "data": {
      "text/plain": [
       "defaultdict(float,\n",
       "            {((0, 0), (1, 0)): -0.6043094380743917,\n",
       "             ((0, 0), (0, 1)): -0.8557407632661569,\n",
       "             ((0, 0), (-1, 0)): -0.8631304148766692,\n",
       "             ((0, 0), (0, -1)): -0.3893120164677773,\n",
       "             ((0, 1), (1, 0)): -1.5547617871675163,\n",
       "             ((0, 1), (0, 1)): -8.848090546659508,\n",
       "             ((0, 1), (-1, 0)): -1.8307692307692307,\n",
       "             ((0, 1), (0, -1)): -1.8630385322151075,\n",
       "             ((0, 2), (1, 0)): -11.034017686945276,\n",
       "             ((0, 2), (0, 1)): -18.307692307692307,\n",
       "             ((0, 2), (-1, 0)): -18.529738416751073,\n",
       "             ((0, 2), (0, -1)): -11.13269213406477,\n",
       "             ((1, 2), (1, 0)): -1.2405981128298447,\n",
       "             ((1, 2), (0, 1)): -8.338886193603093,\n",
       "             ((1, 2), (-1, 0)): -9.119773649820072,\n",
       "             ((1, 2), (0, -1)): -1.361362329016103,\n",
       "             ((2, 2), (1, 0)): -0.2992430980174962,\n",
       "             ((2, 2), (0, 1)): -0.5342857335681652,\n",
       "             ((2, 2), (-1, 0)): -0.4837998727767375,\n",
       "             ((2, 2), (0, -1)): -0.5204954215409693,\n",
       "             ((3, 2), (1, 0)): -0.8725494505494508,\n",
       "             ((3, 2), (0, 1)): -0.8367852875365741,\n",
       "             ((3, 2), (-1, 0)): -0.2833928624457611,\n",
       "             ((3, 2), (0, -1)): -0.8481327503602458,\n",
       "             ((4, 2), (1, 0)): -10.00129566836369,\n",
       "             ((4, 2), (0, 1)): -9.75363538910948,\n",
       "             ((4, 2), (-1, 0)): -1.2568072846145857,\n",
       "             ((4, 2), (0, -1)): -1.6703609484669686,\n",
       "             ((5, 2), (1, 0)): -10.920478555588328,\n",
       "             ((5, 2), (0, 1)): -10.896651382858284,\n",
       "             ((5, 2), (-1, 0)): -10.895673076923078,\n",
       "             ((5, 2), (0, -1)): -11.047815317249029,\n",
       "             ((6, 2), (1, 0)): -1.4029043488906805,\n",
       "             ((6, 2), (0, 1)): -10.027527218934912,\n",
       "             ((6, 2), (-1, 0)): -9.35219821500174,\n",
       "             ((6, 2), (0, -1)): -1.7237722718788269,\n",
       "             ((6, 3), (1, 0)): -0.8707692307692309,\n",
       "             ((6, 3), (0, 1)): -0.8912236752830048,\n",
       "             ((6, 3), (-1, 0)): -1.3826049081204803,\n",
       "             ((6, 3), (0, -1)): -1.3160235732009933,\n",
       "             ((7, 3), (1, 0)): -1.8307692307692307,\n",
       "             ((7, 3), (0, 1)): -1.5357142857142865,\n",
       "             ((7, 3), (-1, 0)): -1.6788268525930288,\n",
       "             ((7, 3), (0, -1)): -1.0950724530295193,\n",
       "             ((7, 4), (1, 0)): -25.734265734265733,\n",
       "             ((7, 4), (0, 1)): -23.62525467022678,\n",
       "             ((7, 4), (-1, 0)): -25.734265734265733,\n",
       "             ((7, 4), (0, -1)): -11.515318700406294,\n",
       "             ((7, 5), (1, 0)): -1.0,\n",
       "             ((7, 5), (0, 1)): -0.06688844059885568,\n",
       "             ((7, 5), (-1, 0)): -7.781884449255795,\n",
       "             ((7, 5), (0, -1)): -8.893765653101022,\n",
       "             ((7, 6), (1, 0)): -0.04,\n",
       "             ((7, 6), (0, 1)): 3.048141084634261,\n",
       "             ((7, 6), (-1, 0)): 0.7532864354644668,\n",
       "             ((7, 6), (0, -1)): 0.43656128759391,\n",
       "             ((7, 7), None): 3.616460069878868,\n",
       "             ((1, 0), (1, 0)): -0.5060317383459007,\n",
       "             ((1, 0), (0, 1)): -0.38822643335633433,\n",
       "             ((1, 0), (-1, 0)): -0.3863388099584348,\n",
       "             ((1, 0), (0, -1)): -0.37829295570596966,\n",
       "             ((2, 0), (1, 0)): -0.35405569310054086,\n",
       "             ((2, 0), (0, 1)): -0.3426386175261728,\n",
       "             ((2, 0), (-1, 0)): -0.3527745476579888,\n",
       "             ((2, 0), (0, -1)): -0.3564619540879313,\n",
       "             ((3, 0), (1, 0)): -0.36627046237712113,\n",
       "             ((3, 0), (0, 1)): -0.3620694103139416,\n",
       "             ((3, 0), (-1, 0)): -0.34189641361858436,\n",
       "             ((3, 0), (0, -1)): -0.3676006787932374,\n",
       "             ((4, 0), (1, 0)): -0.39912048072535816,\n",
       "             ((4, 0), (0, 1)): -0.4262585416419467,\n",
       "             ((4, 0), (-1, 0)): -0.7000315376121783,\n",
       "             ((4, 0), (0, -1)): -0.36910537879360106,\n",
       "             ((5, 0), (1, 0)): -0.8180681493680412,\n",
       "             ((5, 0), (0, 1)): -0.8750960448858387,\n",
       "             ((5, 0), (-1, 0)): -0.8863421658986176,\n",
       "             ((5, 0), (0, -1)): -0.38454168040558784,\n",
       "             ((6, 0), (1, 0)): -0.3870397215341211,\n",
       "             ((6, 0), (0, 1)): -0.6993398964344018,\n",
       "             ((6, 0), (-1, 0)): -0.38749849270324743,\n",
       "             ((6, 0), (0, -1)): -0.38669400521548675,\n",
       "             ((7, 0), (1, 0)): -0.3927804892388623,\n",
       "             ((7, 0), (0, 1)): -0.38925034778353845,\n",
       "             ((7, 0), (-1, 0)): -0.40170659024389177,\n",
       "             ((7, 0), (0, -1)): -0.3925182347863341,\n",
       "             ((7, 1), (1, 0)): -0.4414454311334786,\n",
       "             ((7, 1), (0, 1)): -0.6054278594578772,\n",
       "             ((7, 1), (-1, 0)): -0.49892316565741784,\n",
       "             ((7, 1), (0, -1)): -0.39136733400476253,\n",
       "             ((7, 2), (1, 0)): -0.8612027972027972,\n",
       "             ((7, 2), (0, 1)): -0.8707692307692309,\n",
       "             ((7, 2), (-1, 0)): -0.9376596450424577,\n",
       "             ((7, 2), (0, -1)): -0.3985792901106415,\n",
       "             ((2, 1), (1, 0)): -0.3318498057310356,\n",
       "             ((2, 1), (0, 1)): -0.3117891544751231,\n",
       "             ((2, 1), (-1, 0)): -0.5235220997300727,\n",
       "             ((2, 1), (0, -1)): -0.3297827856705608,\n",
       "             ((3, 1), (1, 0)): -0.35815576107138974,\n",
       "             ((3, 1), (0, 1)): -0.4168473880417287,\n",
       "             ((3, 1), (-1, 0)): -0.31697099712850013,\n",
       "             ((3, 1), (0, -1)): -0.33776383708148,\n",
       "             ((4, 1), (1, 0)): -0.8707692307692309,\n",
       "             ((4, 1), (0, 1)): -0.8709752747252748,\n",
       "             ((4, 1), (-1, 0)): -0.3635109520684816,\n",
       "             ((4, 1), (0, -1)): -0.8583597909292722,\n",
       "             ((5, 1), (1, 0)): -9.4375,\n",
       "             ((5, 1), (0, 1)): -10.04782511864685,\n",
       "             ((5, 1), (-1, 0)): -1.4884747906325229,\n",
       "             ((5, 1), (0, -1)): -1.318152644548736,\n",
       "             ((6, 1), (1, 0)): -0.992175508358609,\n",
       "             ((6, 1), (0, 1)): -0.9399135944700462,\n",
       "             ((6, 1), (-1, 0)): -0.9374067402103478,\n",
       "             ((6, 1), (0, -1)): -0.4346879595379432,\n",
       "             ((5, 3), (1, 0)): -1.0327272727272727,\n",
       "             ((5, 3), (0, 1)): -1.5243454825701461,\n",
       "             ((5, 3), (-1, 0)): -1.8307692307692307,\n",
       "             ((5, 3), (0, -1)): -9.987723815704928,\n",
       "             ((4, 3), (1, 0)): -0.8707692307692309,\n",
       "             ((4, 3), (0, 1)): -0.6963550937541377,\n",
       "             ((4, 3), (-1, 0)): -0.09268663077162388,\n",
       "             ((4, 3), (0, -1)): -0.8707692307692309,\n",
       "             ((3, 3), (1, 0)): -0.1520149136681565,\n",
       "             ((3, 3), (0, 1)): -0.08222045315344063,\n",
       "             ((3, 3), (-1, 0)): -0.15956710803534394,\n",
       "             ((3, 3), (0, -1)): -0.20217104803708608,\n",
       "             ((3, 4), (1, 0)): -0.052097499209530856,\n",
       "             ((3, 4), (0, 1)): -0.5974345364888339,\n",
       "             ((3, 4), (-1, 0)): -0.5625185229344741,\n",
       "             ((3, 4), (0, -1)): -0.6779959500296369,\n",
       "             ((3, 5), (1, 0)): 0.5763002783396477,\n",
       "             ((3, 5), (0, 1)): -0.6136776693868973,\n",
       "             ((3, 5), (-1, 0)): -7.138284207444475,\n",
       "             ((3, 5), (0, -1)): -0.702728391313171,\n",
       "             ((4, 5), (1, 0)): 1.3365073888509695,\n",
       "             ((4, 5), (0, 1)): 1.8586300192095886,\n",
       "             ((4, 5), (-1, 0)): 0.20994047851007536,\n",
       "             ((4, 5), (0, -1)): 0.737880668077823,\n",
       "             ((5, 5), (1, 0)): 1.3773601258481678,\n",
       "             ((5, 5), (0, 1)): 2.140703900852418,\n",
       "             ((5, 5), (-1, 0)): 1.3402970568928543,\n",
       "             ((5, 5), (0, -1)): 1.2237750263160867,\n",
       "             ((6, 5), (1, 0)): 1.4481782229810058,\n",
       "             ((6, 5), (0, 1)): 0.7946258587008662,\n",
       "             ((6, 5), (-1, 0)): 1.2905723383818488,\n",
       "             ((6, 5), (0, -1)): 1.2559456827120108,\n",
       "             ((1, 1), (1, 0)): -0.7983338327366041,\n",
       "             ((1, 1), (0, 1)): -0.823173289709866,\n",
       "             ((1, 1), (-1, 0)): -0.9443991752978043,\n",
       "             ((1, 1), (0, -1)): -0.3746155388205316,\n",
       "             ((2, 4), (1, 0)): -1.046852411597865,\n",
       "             ((2, 4), (0, 1)): -7.04762543849698,\n",
       "             ((2, 4), (-1, 0)): -0.9837467536690262,\n",
       "             ((2, 4), (0, -1)): -1.1376082570424846,\n",
       "             ((2, 3), (1, 0)): -0.8077720742506861,\n",
       "             ((2, 3), (0, 1)): -0.7813926709621619,\n",
       "             ((2, 3), (-1, 0)): -0.721926383487844,\n",
       "             ((2, 3), (0, -1)): -0.206393143703375,\n",
       "             ((6, 6), (1, 0)): 0.793331108510791,\n",
       "             ((6, 6), (0, 1)): 1.8169505130312698,\n",
       "             ((6, 6), (-1, 0)): 1.8696347818787946,\n",
       "             ((6, 6), (0, -1)): 1.56977446767168,\n",
       "             ((3, 6), (1, 0)): 0.4361897407772363,\n",
       "             ((3, 6), (0, 1)): 2.459932966546873,\n",
       "             ((3, 6), (-1, 0)): 0.0,\n",
       "             ((3, 6), (0, -1)): 0.0,\n",
       "             ((3, 7), (1, 0)): 2.2342188886702177,\n",
       "             ((3, 7), (0, 1)): 0.0,\n",
       "             ((3, 7), (-1, 0)): 0.0,\n",
       "             ((3, 7), (0, -1)): 0.0,\n",
       "             ((4, 6), (1, 0)): 1.8746341733890373,\n",
       "             ((4, 6), (0, 1)): 2.0791609538887985,\n",
       "             ((4, 6), (-1, 0)): 0.0,\n",
       "             ((4, 6), (0, -1)): 0.0,\n",
       "             ((6, 7), (1, 0)): 3.265223649933976,\n",
       "             ((6, 7), (0, 1)): 0.0,\n",
       "             ((6, 7), (-1, 0)): 0.0,\n",
       "             ((6, 7), (0, -1)): 0.0,\n",
       "             ((1, 3), (1, 0)): -0.8587985187301664,\n",
       "             ((1, 3), (0, 1)): 0.1020842675350703,\n",
       "             ((1, 3), (-1, 0)): -0.9084044115161554,\n",
       "             ((1, 3), (0, -1)): -1.0908065403392,\n",
       "             ((0, 3), (1, 0)): -0.8515441247548758,\n",
       "             ((0, 3), (0, 1)): -1.7471747645380333,\n",
       "             ((0, 3), (-1, 0)): -1.8307536411706988,\n",
       "             ((0, 3), (0, -1)): -10.42147391454263,\n",
       "             ((2, 5), (1, 0)): -8.333938882767718,\n",
       "             ((2, 5), (0, 1)): -10.0,\n",
       "             ((2, 5), (-1, 0)): -7.279549138931549,\n",
       "             ((2, 5), (0, -1)): -9.423554085092452,\n",
       "             ((5, 6), (1, 0)): 1.846447239696202,\n",
       "             ((5, 6), (0, 1)): 2.4956017106315183,\n",
       "             ((5, 6), (-1, 0)): 0.0,\n",
       "             ((5, 6), (0, -1)): 0.0,\n",
       "             ((1, 4), (1, 0)): -0.7561184455147063,\n",
       "             ((1, 4), (0, 1)): -0.3218249878913473,\n",
       "             ((1, 4), (-1, 0)): 0.01130898612275319,\n",
       "             ((1, 4), (0, -1)): -0.5582991248725433,\n",
       "             ((4, 7), (1, 0)): 2.4878897254607653,\n",
       "             ((4, 7), (0, 1)): 0.0,\n",
       "             ((4, 7), (-1, 0)): 0.0,\n",
       "             ((4, 7), (0, -1)): 0.0,\n",
       "             ((5, 7), (1, 0)): 2.9100931395986467,\n",
       "             ((5, 7), (0, 1)): 0.0,\n",
       "             ((5, 7), (-1, 0)): 0.0,\n",
       "             ((5, 7), (0, -1)): 0.0,\n",
       "             ((2, 6), (1, 0)): -0.9765956211084814,\n",
       "             ((2, 6), (0, 1)): 1.3191216098939655,\n",
       "             ((2, 6), (-1, 0)): 0.14986017972465215,\n",
       "             ((2, 6), (0, -1)): 0.0,\n",
       "             ((2, 7), (1, 0)): 2.018161170792698,\n",
       "             ((2, 7), (0, 1)): 0.0,\n",
       "             ((2, 7), (-1, 0)): 0.0,\n",
       "             ((2, 7), (0, -1)): 0.0,\n",
       "             ((0, 4), (1, 0)): -0.7263176893466661,\n",
       "             ((0, 4), (0, 1)): 1.3680630877762658,\n",
       "             ((0, 4), (-1, 0)): 0.017727117893054388,\n",
       "             ((0, 4), (0, -1)): -0.7114813270658062,\n",
       "             ((1, 5), (1, 0)): -1.0,\n",
       "             ((1, 5), (0, 1)): 0.03405619026866513,\n",
       "             ((1, 5), (-1, 0)): 0.4210516175323785,\n",
       "             ((1, 5), (0, -1)): -0.44927500439640833,\n",
       "             ((1, 6), (1, 0)): 1.2776224219162802,\n",
       "             ((1, 6), (0, 1)): 2.0988701069728655,\n",
       "             ((1, 6), (-1, 0)): 0.0,\n",
       "             ((1, 6), (0, -1)): 0.0,\n",
       "             ((0, 5), (1, 0)): 0.13857612073659675,\n",
       "             ((0, 5), (0, 1)): 1.599929433075459,\n",
       "             ((0, 5), (-1, 0)): 0.2652938785846577,\n",
       "             ((0, 5), (0, -1)): 1.0340591037866664,\n",
       "             ((0, 6), (1, 0)): 0.14361342199907945,\n",
       "             ((0, 6), (0, 1)): 1.5405461690411155,\n",
       "             ((0, 6), (-1, 0)): 0.0,\n",
       "             ((0, 6), (0, -1)): 0.0,\n",
       "             ((1, 7), (1, 0)): 1.8651242041511007,\n",
       "             ((1, 7), (0, 1)): 1.8123232738381303,\n",
       "             ((1, 7), (-1, 0)): 0.0,\n",
       "             ((1, 7), (0, -1)): 0.0,\n",
       "             ((0, 7), (1, 0)): 1.6422219907111375,\n",
       "             ((0, 7), (0, 1)): 0.0,\n",
       "             ((0, 7), (-1, 0)): 0.0,\n",
       "             ((0, 7), (0, -1)): 0.0})"
      ]
     },
     "execution_count": 117,
     "metadata": {},
     "output_type": "execute_result"
    }
   ],
   "source": [
    "q_agent.Q"
   ]
  },
  {
   "cell_type": "markdown",
   "metadata": {},
   "source": [
    "The Utility **U** of each state is related to **Q** by the following equation.\n",
    "\n",
    "**U (s) = max <sub>a</sub> Q(s, a)**\n",
    "\n",
    "Let us convert the Q Values above into U estimates.\n",
    "\n"
   ]
  },
  {
   "cell_type": "code",
   "execution_count": 118,
   "metadata": {},
   "outputs": [],
   "source": [
    "U = defaultdict(lambda: -1000.) # Very Large Negative Value for Comparison see below.\n",
    "for state_action, value in q_agent.Q.items():\n",
    "    state, action = state_action\n",
    "    if U[state] < value:\n",
    "                U[state] = value"
   ]
  },
  {
   "cell_type": "code",
   "execution_count": 119,
   "metadata": {},
   "outputs": [
    {
     "data": {
      "text/plain": [
       "defaultdict(<function __main__.<lambda>()>,\n",
       "            {(0, 0): -0.3893120164677773,\n",
       "             (0, 1): -1.5547617871675163,\n",
       "             (0, 2): -11.034017686945276,\n",
       "             (1, 2): -1.2405981128298447,\n",
       "             (2, 2): -0.2992430980174962,\n",
       "             (3, 2): -0.2833928624457611,\n",
       "             (4, 2): -1.2568072846145857,\n",
       "             (5, 2): -10.895673076923078,\n",
       "             (6, 2): -1.4029043488906805,\n",
       "             (6, 3): -0.8707692307692309,\n",
       "             (7, 3): -1.0950724530295193,\n",
       "             (7, 4): -11.515318700406294,\n",
       "             (7, 5): -0.06688844059885568,\n",
       "             (7, 6): 3.048141084634261,\n",
       "             (7, 7): 3.616460069878868,\n",
       "             (1, 0): -0.37829295570596966,\n",
       "             (2, 0): -0.3426386175261728,\n",
       "             (3, 0): -0.34189641361858436,\n",
       "             (4, 0): -0.36910537879360106,\n",
       "             (5, 0): -0.38454168040558784,\n",
       "             (6, 0): -0.38669400521548675,\n",
       "             (7, 0): -0.38925034778353845,\n",
       "             (7, 1): -0.39136733400476253,\n",
       "             (7, 2): -0.3985792901106415,\n",
       "             (2, 1): -0.3117891544751231,\n",
       "             (3, 1): -0.31697099712850013,\n",
       "             (4, 1): -0.3635109520684816,\n",
       "             (5, 1): -1.318152644548736,\n",
       "             (6, 1): -0.4346879595379432,\n",
       "             (5, 3): -1.0327272727272727,\n",
       "             (4, 3): -0.09268663077162388,\n",
       "             (3, 3): -0.08222045315344063,\n",
       "             (3, 4): -0.052097499209530856,\n",
       "             (3, 5): 0.5763002783396477,\n",
       "             (4, 5): 1.8586300192095886,\n",
       "             (5, 5): 2.140703900852418,\n",
       "             (6, 5): 1.4481782229810058,\n",
       "             (1, 1): -0.3746155388205316,\n",
       "             (2, 4): -0.9837467536690262,\n",
       "             (2, 3): -0.206393143703375,\n",
       "             (6, 6): 1.8696347818787946,\n",
       "             (3, 6): 2.459932966546873,\n",
       "             (3, 7): 2.2342188886702177,\n",
       "             (4, 6): 2.0791609538887985,\n",
       "             (6, 7): 3.265223649933976,\n",
       "             (1, 3): 0.1020842675350703,\n",
       "             (0, 3): -0.8515441247548758,\n",
       "             (2, 5): -7.279549138931549,\n",
       "             (5, 6): 2.4956017106315183,\n",
       "             (1, 4): 0.01130898612275319,\n",
       "             (4, 7): 2.4878897254607653,\n",
       "             (5, 7): 2.9100931395986467,\n",
       "             (2, 6): 1.3191216098939655,\n",
       "             (2, 7): 2.018161170792698,\n",
       "             (0, 4): 1.3680630877762658,\n",
       "             (1, 5): 0.4210516175323785,\n",
       "             (1, 6): 2.0988701069728655,\n",
       "             (0, 5): 1.599929433075459,\n",
       "             (0, 6): 1.5405461690411155,\n",
       "             (1, 7): 1.8651242041511007,\n",
       "             (0, 7): 1.6422219907111375})"
      ]
     },
     "execution_count": 119,
     "metadata": {},
     "output_type": "execute_result"
    }
   ],
   "source": [
    "U"
   ]
  },
  {
   "cell_type": "markdown",
   "metadata": {},
   "source": [
    "Let us finally compare these estimates to value_iteration results."
   ]
  },
  {
   "cell_type": "code",
   "execution_count": 120,
   "metadata": {},
   "outputs": [
    {
     "name": "stdout",
     "output_type": "stream",
     "text": [
      "{(4, 0): 0.9592510249999024, (3, 4): 2.6349467338527726, (4, 3): 1.715247637279368, (3, 1): 1.3829435900868137, (3, 7): 5.494284372144781, (4, 6): 5.71406783878458, (5, 1): -0.38535416824539664, (5, 7): 7.4193318608091126, (0, 2): -9.820133506405137, (0, 5): 2.398260610591679, (2, 2): 1.4386419043106127, (1, 0): 0.8419079520284465, (1, 6): 3.328140145359859, (2, 5): -7.287409284790501, (1, 3): 1.35543386148279, (7, 4): -6.615198954254923, (6, 2): -0.9589122799027445, (7, 1): 0.3059652579224845, (7, 7): 10, (6, 5): 6.466073568419178, (4, 2): 0.46900699946848556, (3, 0): 1.1324204929929418, (4, 5): 5.047704330346447, (3, 3): 2.1648142058688427, (5, 0): 0.6768851565987255, (5, 6): 6.561871328703023, (3, 6): 4.866467118500668, (5, 3): -0.7071236278313471, (0, 1): -0.5590418580100129, (0, 7): 3.3553307744592225, (2, 4): 0.61089314654446, (1, 2): 0.24096024787873435, (0, 4): 2.0156579695723336, (2, 1): 1.2034360152593828, (2, 7): 4.605136138329179, (1, 5): 1.1737813827816246, (6, 1): 0.33027444592634125, (7, 0): 0.4010485406473782, (7, 3): -1.0864248815234758, (6, 7): 8.612532741324099, (7, 6): 8.612532741324099, (3, 2): 1.6903529459331528, (4, 1): 1.0842575889164445, (4, 7): 6.391412137661514, (3, 5): 3.3094743157471176, (5, 2): -9.760644243703277, (5, 5): 5.721034493234349, (0, 0): 0.5668618672320155, (1, 1): 0.9239257064850616, (0, 3): 0.6299584956901095, (2, 0): 1.004156957954898, (1, 4): 1.6389026141474854, (0, 6): 2.9399678678642167, (2, 3): 1.7031228274044974, (1, 7): 3.9288248666526107, (2, 6): 3.053212668940834, (7, 2): 0.10319973833239648, (6, 0): 0.5242419673584922, (6, 6): 7.526719940055513, (7, 5): 6.354912302099722, (6, 3): -0.6982965935983698}\n"
     ]
    }
   ],
   "source": [
    "print(value_iteration(sequential_decision_environment))"
   ]
  },
  {
   "cell_type": "code",
   "execution_count": null,
   "metadata": {},
   "outputs": [],
   "source": []
  }
 ],
 "metadata": {
  "interpreter": {
   "hash": "08ed8f9a424e71ecb4dc69db0334cf3f416d9ce53adb05348e5735c903720564"
  },
  "kernelspec": {
   "display_name": "Python 3.9.7 ('base')",
   "language": "python",
   "name": "python3"
  },
  "language_info": {
   "codemirror_mode": {
    "name": "ipython",
    "version": 3
   },
   "file_extension": ".py",
   "mimetype": "text/x-python",
   "name": "python",
   "nbconvert_exporter": "python",
   "pygments_lexer": "ipython3",
   "version": "3.9.7"
  },
  "pycharm": {
   "stem_cell": {
    "cell_type": "raw",
    "metadata": {
     "collapsed": false
    },
    "source": []
   }
  }
 },
 "nbformat": 4,
 "nbformat_minor": 1
}

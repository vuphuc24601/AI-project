{
 "cells": [
  {
   "cell_type": "markdown",
   "metadata": {},
   "source": [
    "# Reinforcement Learning\n",
    "\n",
    "This Jupyter notebook acts as supporting material for **Chapter 21 Reinforcement Learning** of the book* Artificial Intelligence: A Modern Approach*. This notebook makes use of the implementations in `rl.py` module. We also make use of implementation of MDPs in the `mdp.py` module to test our agents. It might be helpful if you have already gone through the Jupyter notebook dealing with Markov decision process. Let us import everything from the `rl` module. It might be helpful to view the source of some of our implementations. Please refer to the Introductory Jupyter notebook for more details."
   ]
  },
  {
   "cell_type": "code",
   "execution_count": 1,
   "metadata": {},
   "outputs": [
    {
     "data": {
      "application/vnd.jupyter.widget-view+json": {
       "model_id": "9795b26c053747c9b20c3af25a20f086",
       "version_major": 2,
       "version_minor": 0
      },
      "text/plain": [
       "Dropdown(description='R: ', index=1, options=(-0.01, -0.3, -0.6), value=-0.3)"
      ]
     },
     "metadata": {},
     "output_type": "display_data"
    },
    {
     "data": {
      "application/vnd.jupyter.widget-view+json": {
       "model_id": "85a0ed271fe24323b60262d4a78da242",
       "version_major": 2,
       "version_minor": 0
      },
      "text/plain": [
       "Dropdown(description='threshold: ', index=1, options=(100, 500, 1000), value=500)"
      ]
     },
     "metadata": {},
     "output_type": "display_data"
    },
    {
     "data": {
      "application/vnd.jupyter.widget-view+json": {
       "model_id": "ef375ce171d4400da7f9094b0e929b21",
       "version_major": 2,
       "version_minor": 0
      },
      "text/plain": [
       "Dropdown(description='gamma: ', index=2, options=(0.8, 0.85, 0.9, 0.95), value=0.9)"
      ]
     },
     "metadata": {},
     "output_type": "display_data"
    },
    {
     "data": {
      "application/vnd.jupyter.widget-view+json": {
       "model_id": "2490e43a87604a80aca17ab7ba5a1ce9",
       "version_major": 2,
       "version_minor": 0
      },
      "text/plain": [
       "Dropdown(description='no_of_episodes: ', index=1, options=(1000, 5000, 10000), value=5000)"
      ]
     },
     "metadata": {},
     "output_type": "display_data"
    },
    {
     "data": {
      "application/vnd.jupyter.widget-view+json": {
       "model_id": "5adf696987b04206969f0705364f70d3",
       "version_major": 2,
       "version_minor": 0
      },
      "text/plain": [
       "Dropdown(description='M: ', index=1, options=(2000, 50000, 100000), value=50000)"
      ]
     },
     "metadata": {},
     "output_type": "display_data"
    },
    {
     "data": {
      "application/vnd.jupyter.widget-view+json": {
       "model_id": "3a0c7e99f88f42388305760b62545727",
       "version_major": 2,
       "version_minor": 0
      },
      "text/plain": [
       "Dropdown(description='B: ', index=1, options=(10, 30, 50), value=30)"
      ]
     },
     "metadata": {},
     "output_type": "display_data"
    },
    {
     "data": {
      "application/vnd.jupyter.widget-view+json": {
       "model_id": "4eaefece27a0409db95a13b4ed866964",
       "version_major": 2,
       "version_minor": 0
      },
      "text/plain": [
       "Dropdown(description='K: ', index=1, options=(0, 100, 500, 10000), value=100)"
      ]
     },
     "metadata": {},
     "output_type": "display_data"
    },
    {
     "data": {
      "application/vnd.jupyter.widget-view+json": {
       "model_id": "7a16fe4232ff4480aac1c51ce3dcf753",
       "version_major": 2,
       "version_minor": 0
      },
      "text/plain": [
       "Dropdown(description='Ne: ', index=1, options=(60, 100, 200, 300), value=100)"
      ]
     },
     "metadata": {},
     "output_type": "display_data"
    },
    {
     "data": {
      "application/vnd.jupyter.widget-view+json": {
       "model_id": "4c18f8e33bec4626b280445f6bc1716d",
       "version_major": 2,
       "version_minor": 0
      },
      "text/plain": [
       "Dropdown(description='Rplus:', index=1, options=(0, 2, 5, 1000), value=2)"
      ]
     },
     "metadata": {},
     "output_type": "display_data"
    },
    {
     "data": {
      "application/vnd.jupyter.widget-view+json": {
       "model_id": "75016c2832b84eb197bc9ee474918048",
       "version_major": 2,
       "version_minor": 0
      },
      "text/plain": [
       "Dropdown(description='tau:', index=2, options=(0.25, 0.5, 1, 2, 3), value=1)"
      ]
     },
     "metadata": {},
     "output_type": "display_data"
    },
    {
     "data": {
      "application/vnd.jupyter.widget-view+json": {
       "model_id": "f3bef3319add4695af085de3a114b3c7",
       "version_major": 2,
       "version_minor": 0
      },
      "text/plain": [
       "Dropdown(description='alpha_num: ', index=2, options=(60, 200, 500, 1000), value=500)"
      ]
     },
     "metadata": {},
     "output_type": "display_data"
    }
   ],
   "source": [
    "import ipywidgets as widgets\n",
    "\n",
    "\n",
    "R = widgets.Dropdown(\n",
    "    options=[-0.01, -0.3, -0.6],\n",
    "    value=-0.3,\n",
    "    description='R: ',\n",
    "    disabled=False,\n",
    ")\n",
    "\n",
    "gamma = widgets.Dropdown(\n",
    "    options=[0.80, 0.85, 0.9, 0.95],\n",
    "    value=0.9,\n",
    "    description='gamma: ',\n",
    "    disabled=False,\n",
    ")\n",
    "\n",
    "no_of_episodes = widgets.Dropdown(\n",
    "    options=[1000, 5000, 10000],\n",
    "    value=5000,\n",
    "    description='no_of_episodes: ',\n",
    "    disabled=False,\n",
    ")\n",
    "\n",
    "threshold = widgets.Dropdown(\n",
    "    options=[100, 500, 1000],\n",
    "    value=500,\n",
    "    description='threshold: ',\n",
    "    disabled=False,\n",
    ")\n",
    "\n",
    "M = widgets.Dropdown(\n",
    "    options=[2000, 50000, 100000],\n",
    "    value=50000,\n",
    "    description='M: ',\n",
    "    disabled=False,\n",
    ")\n",
    "\n",
    "B = widgets.Dropdown(\n",
    "    options=[10, 30, 50],\n",
    "    value=30,\n",
    "    description='B: ',\n",
    "    disabled=False,\n",
    ")\n",
    "\n",
    "K = widgets.Dropdown(\n",
    "    options=[0, 100, 500, 10000],\n",
    "    value=100,\n",
    "    description='K: ',\n",
    "    disabled=False,\n",
    ")\n",
    "\n",
    "tau = widgets.Dropdown(\n",
    "    options=[0.25,0.5, 1, 2, 3],\n",
    "    value=1,\n",
    "    description='tau:',\n",
    "    disabled=False,\n",
    ")\n",
    "\n",
    "alpha_num = widgets.Dropdown(\n",
    "    options=[60,200, 500, 1000],\n",
    "    value=500,\n",
    "    description='alpha_num: ',\n",
    "    disabled=False,\n",
    ")\n",
    "\n",
    "Ne = widgets.Dropdown(\n",
    "    options=[60,100, 200, 300],\n",
    "    value=100,\n",
    "    description='Ne: ',\n",
    "    disabled=False,\n",
    ")\n",
    "\n",
    "Rplus = widgets.Dropdown(\n",
    "    options=[0,2, 5, 1000],\n",
    "    value=2,\n",
    "    description='Rplus:',\n",
    "    disabled=False,\n",
    ")\n",
    "\n",
    "\n",
    "\n",
    "display(R, threshold, gamma, no_of_episodes, M, B, K, Ne, Rplus, tau, alpha_num)\n"
   ]
  },
  {
   "cell_type": "code",
   "execution_count": 2,
   "metadata": {},
   "outputs": [],
   "source": [
    "R = float(R.value)\n",
    "gamma = float(gamma.value)\n",
    "no_of_episodes = int(no_of_episodes.value)\n",
    "threshold = int(threshold.value)\n",
    "M = int(M.value)\n",
    "B = int(B.value)\n",
    "K = int(K.value)\n",
    "Ne = int(Ne.value)\n",
    "Rplus = int(Rplus.value)\n",
    "tau = float(tau.value)\n",
    "alpha_num = int(alpha_num.value)\n",
    "\n",
    "alpha = lambda n: alpha_num /(alpha_num-1+n)"
   ]
  },
  {
   "cell_type": "code",
   "execution_count": 3,
   "metadata": {},
   "outputs": [],
   "source": [
    "from reinforcement_learning4e import *"
   ]
  },
  {
   "cell_type": "code",
   "execution_count": 4,
   "metadata": {},
   "outputs": [],
   "source": [
    "from mdp4e import GridMDP\n",
    "from mdp4e import value_iteration\n",
    "sequential_decision_environment = GridMDP([[R, R, R, R, R, R, R, 10],\n",
    "                                           [R, R, -1, R, R, R, R, R],\n",
    "                                           [R, -1, -10, -1, R, R, R, -1],\n",
    "                                           [R, R, -1, R, None, None, None, -10],\n",
    "                                           [-1, R, R, R, R, -1, R, -1],\n",
    "                                           [-10, -1, R, R, -1, -10, -1, R],\n",
    "                                           [-1, R, R, R, R, -1, R, R],\n",
    "                                           [R, R, R, R, R, R, R, R]],\n",
    "                                          terminals=[(7, 7)],gamma = gamma)"
   ]
  },
  {
   "cell_type": "markdown",
   "metadata": {
    "collapsed": true
   },
   "source": [
    "## ACTIVE REINFORCEMENT LEARNING\n",
    "\n",
    "Unlike Passive Reinforcement Learning in Active Reinforcement Learning we are not bound by a policy pi and we need to select our actions. In other words the agent needs to learn an optimal policy. The fundamental tradeoff the agent needs to face is that of exploration vs. exploitation. "
   ]
  },
  {
   "cell_type": "markdown",
   "metadata": {},
   "source": [
    "### QLearning Agent\n",
    "\n",
    "The QLearningAgent class in the rl module implements the Agent Program described in **Fig 21.8** of the AIMA Book. In Q-Learning the agent learns an action-value function Q which gives the utility of taking a given action in a particular state. Q-Learning does not required a transition model and hence is a model free method. Let us look into the source before we see some usage examples."
   ]
  },
  {
   "cell_type": "code",
   "execution_count": 5,
   "metadata": {},
   "outputs": [],
   "source": [
    "%matplotlib inline\n",
    "import matplotlib.pyplot as plt\n",
    "\n",
    "def graph_utility_estimates_q_learning(agent_program, mdp, threshold, states_to_graph):\n",
    "    graphs = {state:[] for state in states_to_graph}\n",
    "    for iteration in range(1,threshold+1):\n",
    "        run_single_trial(agent_program, mdp)\n",
    "        U = defaultdict(lambda: -1000.) # Very Large Negative Value for Comparison see below.\n",
    "        for state_action, value in q_agent.Q.items():\n",
    "            state, action = state_action\n",
    "            if U[state] < value:\n",
    "                        U[state] = value\n",
    "        for state in states_to_graph:\n",
    "            graphs[state].append((iteration, U[state]))\n",
    "    for state, value in graphs.items():\n",
    "        state_x, state_y = zip(*value)\n",
    "        plt.plot(state_x, state_y, label=str(state))\n",
    "#     plt.ylim([0,1.2])\n",
    "    plt.legend(loc='lower right')\n",
    "    plt.xlabel('Iterations')\n",
    "    plt.ylabel('U')"
   ]
  },
  {
   "cell_type": "code",
   "execution_count": 6,
   "metadata": {},
   "outputs": [
    {
     "data": {
      "image/png": "[encoded data removed]",
      "text/plain": [
       "<Figure size 432x288 with 1 Axes>"
      ]
     },
     "metadata": {
      "needs_background": "light"
     },
     "output_type": "display_data"
    }
   ],
   "source": [
    "q_agent = QLearningAgent(mdp=sequential_decision_environment,tau=tau, alpha=alpha,threshold=threshold,Ne=Ne,Rplus=Rplus)\n",
    "graph_utility_estimates_q_learning(q_agent, sequential_decision_environment, no_of_episodes, [(0,0)])\n"
   ]
  },
  {
   "cell_type": "code",
   "execution_count": 7,
   "metadata": {},
   "outputs": [],
   "source": [
    "U = defaultdict(lambda: -1000.) # Very Large Negative Value for Comparison see below.\n",
    "for state_action, value in q_agent.Q.items():\n",
    "    state, action = state_action\n",
    "    if U[state] < value:\n",
    "                U[state] = value"
   ]
  },
  {
   "cell_type": "code",
   "execution_count": 8,
   "metadata": {},
   "outputs": [
    {
     "data": {
      "text/plain": [
       "-2.9943241591091088"
      ]
     },
     "execution_count": 8,
     "metadata": {},
     "output_type": "execute_result"
    }
   ],
   "source": [
    "U.get((0,0))"
   ]
  },
  {
   "cell_type": "code",
   "execution_count": 9,
   "metadata": {},
   "outputs": [
    {
     "name": "stdout",
     "output_type": "stream",
     "text": [
      "-1.3092541680143097\n"
     ]
    }
   ],
   "source": [
    "print(value_iteration(sequential_decision_environment).get((0,0)))"
   ]
  },
  {
   "cell_type": "code",
   "execution_count": 10,
   "metadata": {},
   "outputs": [
    {
     "data": {
      "text/plain": [
       "defaultdict(float,\n",
       "            {((0, 0), (1, 0)): -3.0143648296029633,\n",
       "             ((1, 0), (1, 0)): -2.9985752819703637,\n",
       "             ((1, 0), (0, 1)): -3.109429950572093,\n",
       "             ((1, 0), (-1, 0)): -2.994624280268685,\n",
       "             ((1, 0), (0, -1)): -2.98947842365245,\n",
       "             ((2, 0), (1, 0)): -2.9751595693211583,\n",
       "             ((2, 0), (0, 1)): -2.971135756651454,\n",
       "             ((2, 0), (-1, 0)): -2.9869032780325706,\n",
       "             ((2, 0), (0, -1)): -2.9762696843888334,\n",
       "             ((3, 0), (1, 0)): -2.991040518543579,\n",
       "             ((3, 0), (0, 1)): -2.970538717074527,\n",
       "             ((3, 0), (-1, 0)): -2.998320882971551,\n",
       "             ((3, 0), (0, -1)): -2.9748285636815273,\n",
       "             ((4, 0), (1, 0)): -2.9997265150451855,\n",
       "             ((4, 0), (0, 1)): -3.270328567722928,\n",
       "             ((4, 0), (-1, 0)): -3.0032667568207945,\n",
       "             ((4, 0), (0, -1)): -2.9903606303327415,\n",
       "             ((5, 0), (1, 0)): -3.1291245617815777,\n",
       "             ((5, 0), (0, 1)): -3.1930733120864923,\n",
       "             ((5, 0), (-1, 0)): -3.4538105906176395,\n",
       "             ((5, 0), (0, -1)): -2.996111004823333,\n",
       "             ((6, 0), (1, 0)): -3.426394756143002,\n",
       "             ((6, 0), (0, 1)): -3.0258725752454354,\n",
       "             ((6, 0), (-1, 0)): -3.3624142645465565,\n",
       "             ((6, 0), (0, -1)): -2.998456335910158,\n",
       "             ((6, 1), (1, 0)): -3.784480945849621,\n",
       "             ((6, 1), (0, 1)): -3.5641686214726196,\n",
       "             ((6, 1), (-1, 0)): -3.6584555722469765,\n",
       "             ((6, 1), (0, -1)): -3.593606336793895,\n",
       "             ((6, 2), (1, 0)): -3.4200757835203754,\n",
       "             ((6, 2), (0, 1)): -10.842308346644726,\n",
       "             ((6, 2), (-1, 0)): -10.0,\n",
       "             ((6, 2), (0, -1)): -2.9988687203098676,\n",
       "             ((7, 2), (1, 0)): -3.6818925324107887,\n",
       "             ((7, 2), (0, 1)): -4.0322080483740725,\n",
       "             ((7, 2), (-1, 0)): -3.699971309250218,\n",
       "             ((7, 2), (0, -1)): -3.7890234890125765,\n",
       "             ((7, 3), (1, 0)): -4.082046117197686,\n",
       "             ((7, 3), (0, 1)): -10.864136269294082,\n",
       "             ((7, 3), (-1, 0)): -9.964933082043085,\n",
       "             ((7, 3), (0, -1)): -3.5012809224319903,\n",
       "             ((6, 3), (1, 0)): -4.053069947210543,\n",
       "             ((6, 3), (0, 1)): -2.2958895796430254,\n",
       "             ((6, 3), (-1, 0)): -2.676274635601563,\n",
       "             ((6, 3), (0, -1)): -3.5279427014284943,\n",
       "             ((5, 2), (1, 0)): -2.294056857192621,\n",
       "             ((5, 2), (0, 1)): -2.401340497545596,\n",
       "             ((5, 2), (-1, 0)): -3.2793967387500946,\n",
       "             ((5, 2), (0, -1)): -2.4005473580105727,\n",
       "             ((5, 3), (1, 0)): -11.048094011329686,\n",
       "             ((5, 3), (0, 1)): -2.2945142490282047,\n",
       "             ((5, 3), (-1, 0)): -11.831011231054019,\n",
       "             ((5, 3), (0, -1)): -10.0,\n",
       "             ((4, 3), (1, 0)): -3.7684229872060766,\n",
       "             ((4, 3), (0, 1)): -3.9989250150623152,\n",
       "             ((4, 3), (-1, 0)): -3.6814986864504933,\n",
       "             ((4, 3), (0, -1)): -2.737681011387236,\n",
       "             ((7, 1), (1, 0)): -3.0044646198802476,\n",
       "             ((7, 1), (0, 1)): -3.5367989113018954,\n",
       "             ((7, 1), (-1, 0)): -3.2413593817414026,\n",
       "             ((7, 1), (0, -1)): -3.317728082893882,\n",
       "             ((7, 0), (1, 0)): -3.0093780508753705,\n",
       "             ((7, 0), (0, 1)): -3.0246291997999073,\n",
       "             ((7, 0), (-1, 0)): -3.003690186672873,\n",
       "             ((7, 0), (0, -1)): -2.9992741289734557,\n",
       "             ((5, 1), (1, 0)): -2.9864754549602415,\n",
       "             ((5, 1), (0, 1)): -10.0,\n",
       "             ((5, 1), (-1, 0)): -3.360154423101785,\n",
       "             ((5, 1), (0, -1)): -2.9945349888395105,\n",
       "             ((4, 2), (1, 0)): -10.0,\n",
       "             ((4, 2), (0, 1)): -10.796594543238049,\n",
       "             ((4, 2), (-1, 0)): -2.955247264871671,\n",
       "             ((4, 2), (0, -1)): -10.861449952030327,\n",
       "             ((4, 1), (1, 0)): -3.8502937197756495,\n",
       "             ((4, 1), (0, 1)): -4.208793763446237,\n",
       "             ((4, 1), (-1, 0)): -3.623788851145905,\n",
       "             ((4, 1), (0, -1)): -3.5332033182044915,\n",
       "             ((3, 3), (1, 0)): -3.425803494712163,\n",
       "             ((3, 3), (0, 1)): -3.1524428057507743,\n",
       "             ((3, 3), (-1, 0)): -2.7148646572647728,\n",
       "             ((3, 3), (0, -1)): -3.3648303782197093,\n",
       "             ((3, 2), (1, 0)): -2.9600378108368153,\n",
       "             ((3, 2), (0, 1)): -3.4804774129619847,\n",
       "             ((3, 2), (-1, 0)): -2.9074861809180144,\n",
       "             ((3, 2), (0, -1)): -3.3721801325816596,\n",
       "             ((3, 1), (1, 0)): -2.973163340543663,\n",
       "             ((3, 1), (0, 1)): -3.364106129577247,\n",
       "             ((3, 1), (-1, 0)): -2.962936564159981,\n",
       "             ((3, 1), (0, -1)): -2.9722265532881647,\n",
       "             ((2, 3), (1, 0)): -3.1206011947678465,\n",
       "             ((2, 3), (0, 1)): -3.303485059675892,\n",
       "             ((2, 3), (-1, 0)): -3.0121338144251584,\n",
       "             ((2, 3), (0, -1)): -2.7980703946773957,\n",
       "             ((3, 4), (1, 0)): -1.0058196152296812,\n",
       "             ((3, 4), (0, 1)): -2.9122213737782667,\n",
       "             ((3, 4), (-1, 0)): -3.5751443516614327,\n",
       "             ((3, 4), (0, -1)): -2.9286060180374323,\n",
       "             ((3, 5), (1, 0)): 2.32302181113484,\n",
       "             ((3, 5), (0, 1)): -8.191096021463698,\n",
       "             ((3, 5), (-1, 0)): -10.0,\n",
       "             ((3, 5), (0, -1)): -1.198203592814371,\n",
       "             ((3, 6), (1, 0)): 4.534743296710085,\n",
       "             ((3, 6), (0, 1)): -1.0,\n",
       "             ((3, 6), (-1, 0)): -1.27,\n",
       "             ((3, 6), (0, -1)): -1.27,\n",
       "             ((4, 6), (1, 0)): 5.5850500284285935,\n",
       "             ((4, 6), (0, 1)): -0.8115466278598183,\n",
       "             ((4, 6), (-1, 0)): -0.8119760021693105,\n",
       "             ((4, 6), (0, -1)): -0.8119760474513709,\n",
       "             ((5, 6), (1, 0)): 6.468857191908743,\n",
       "             ((5, 6), (0, 1)): -0.3,\n",
       "             ((5, 6), (-1, 0)): -0.3,\n",
       "             ((5, 6), (0, -1)): -0.3,\n",
       "             ((5, 5), (1, 0)): -0.5689243027888446,\n",
       "             ((5, 5), (0, 1)): 5.299052509764093,\n",
       "             ((5, 5), (-1, 0)): -0.3,\n",
       "             ((5, 5), (0, -1)): -0.3,\n",
       "             ((6, 5), (1, 0)): -1.0,\n",
       "             ((6, 5), (0, 1)): 6.848249253899193,\n",
       "             ((6, 5), (-1, 0)): -0.5700000000000001,\n",
       "             ((6, 5), (0, -1)): -0.3,\n",
       "             ((7, 5), (1, 0)): -1.0,\n",
       "             ((7, 5), (0, 1)): 6.945520726383773,\n",
       "             ((7, 5), (-1, 0)): -0.3,\n",
       "             ((7, 5), (0, -1)): -10.0,\n",
       "             ((7, 6), (1, 0)): -1.0,\n",
       "             ((7, 6), (0, 1)): 9.653317601050215,\n",
       "             ((7, 6), (-1, 0)): 0.0,\n",
       "             ((7, 6), (0, -1)): 0.0,\n",
       "             ((6, 6), (1, 0)): -0.3,\n",
       "             ((6, 6), (0, 1)): 7.891319545534769,\n",
       "             ((6, 6), (-1, 0)): 0.0,\n",
       "             ((6, 6), (0, -1)): 0.0,\n",
       "             ((7, 7), None): 0.0,\n",
       "             ((0, 0), (0, 1)): -3.6798973803269566,\n",
       "             ((1, 1), (1, 0)): -3.0220207373093433,\n",
       "             ((1, 1), (0, 1)): -3.692674059970187,\n",
       "             ((1, 1), (-1, 0)): -3.680856525132918,\n",
       "             ((1, 1), (0, -1)): -3.4817032583539738,\n",
       "             ((2, 1), (1, 0)): -2.963383239025021,\n",
       "             ((2, 1), (0, 1)): -3.1426645401724573,\n",
       "             ((2, 1), (-1, 0)): -3.0855091459559842,\n",
       "             ((2, 1), (0, -1)): -2.9742482743976564,\n",
       "             ((2, 2), (1, 0)): -2.9168408063566518,\n",
       "             ((2, 2), (0, 1)): -3.607472758902525,\n",
       "             ((2, 2), (-1, 0)): -3.413210662004456,\n",
       "             ((2, 2), (0, -1)): -3.527427258572227,\n",
       "             ((2, 4), (1, 0)): -10.411813097849688,\n",
       "             ((2, 4), (0, 1)): -10.87986626746507,\n",
       "             ((2, 4), (-1, 0)): -10.806361504121686,\n",
       "             ((2, 4), (0, -1)): -0.26283491565341244,\n",
       "             ((4, 5), (1, 0)): 4.2512455780821305,\n",
       "             ((4, 5), (0, 1)): -1.2680638722554889,\n",
       "             ((4, 5), (-1, 0)): -1.27,\n",
       "             ((4, 5), (0, -1)): -0.5694610778443114,\n",
       "             ((5, 7), (1, 0)): 7.538515200306255,\n",
       "             ((5, 7), (0, 1)): -0.5694610778443114,\n",
       "             ((5, 7), (-1, 0)): -0.5694610778443114,\n",
       "             ((5, 7), (0, -1)): -0.769335038173002,\n",
       "             ((6, 7), (1, 0)): 9.532850485612993,\n",
       "             ((6, 7), (0, 1)): 0.0,\n",
       "             ((6, 7), (-1, 0)): 0.0,\n",
       "             ((6, 7), (0, -1)): 0.0,\n",
       "             ((0, 0), (0, -1)): -2.9943241591091088,\n",
       "             ((0, 0), (-1, 0)): -2.9946011727336757,\n",
       "             ((1, 2), (1, 0)): -2.9307545975586984,\n",
       "             ((1, 2), (0, 1)): -10.73444225348844,\n",
       "             ((1, 2), (-1, 0)): -13.251833605041357,\n",
       "             ((1, 2), (0, -1)): -10.83198738826493,\n",
       "             ((0, 1), (1, 0)): -5.505922211289388,\n",
       "             ((0, 1), (0, 1)): -13.267351719764275,\n",
       "             ((0, 1), (-1, 0)): -3.8058750409578033,\n",
       "             ((0, 1), (0, -1)): -3.0545561360207665,\n",
       "             ((2, 5), (1, 0)): -1.5110098528043514,\n",
       "             ((2, 5), (0, 1)): -2.264200311939959,\n",
       "             ((2, 5), (-1, 0)): -2.3959283504127047,\n",
       "             ((2, 5), (0, -1)): -3.6752966142461023,\n",
       "             ((2, 6), (1, 0)): -6.937701875212406,\n",
       "             ((2, 6), (0, 1)): 2.1020850314381643,\n",
       "             ((2, 6), (-1, 0)): -10.0,\n",
       "             ((2, 6), (0, -1)): -9.98063872255489,\n",
       "             ((2, 7), (1, 0)): 2.732731046689399,\n",
       "             ((2, 7), (0, 1)): -1.5584584139586461,\n",
       "             ((2, 7), (-1, 0)): -1.5086008745401687,\n",
       "             ((2, 7), (0, -1)): -1.5049924284221354,\n",
       "             ((1, 3), (1, 0)): -3.6331651660961537,\n",
       "             ((1, 3), (0, 1)): -1.9633481488017492,\n",
       "             ((1, 3), (-1, 0)): -3.1082680924616426,\n",
       "             ((1, 3), (0, -1)): -2.9360627346981616,\n",
       "             ((1, 4), (1, 0)): -2.971881151686986,\n",
       "             ((1, 4), (0, 1)): -3.1053025414350213,\n",
       "             ((1, 4), (-1, 0)): -1.7750233183415065,\n",
       "             ((1, 4), (0, -1)): -3.4083240310258462,\n",
       "             ((1, 5), (1, 0)): -10.0,\n",
       "             ((1, 5), (0, 1)): -10.585738083286843,\n",
       "             ((1, 5), (-1, 0)): -1.477393859841866,\n",
       "             ((1, 5), (0, -1)): -10.846312593561711,\n",
       "             ((1, 6), (1, 0)): -1.9203520563740808,\n",
       "             ((1, 6), (0, 1)): 1.1060421430332723,\n",
       "             ((1, 6), (-1, 0)): -1.9204693890776228,\n",
       "             ((1, 6), (0, -1)): -1.9267453111715203,\n",
       "             ((4, 7), (1, 0)): -0.8115449433371569,\n",
       "             ((4, 7), (0, 1)): -0.8105819267660967,\n",
       "             ((4, 7), (-1, 0)): -0.8120297254097385,\n",
       "             ((4, 7), (0, -1)): 4.665593749283051,\n",
       "             ((3, 7), (1, 0)): 3.864636402129985,\n",
       "             ((3, 7), (0, 1)): -1.2264781342727615,\n",
       "             ((3, 7), (-1, 0)): -1.3979709714338033,\n",
       "             ((3, 7), (0, -1)): -1.0058128965323787,\n",
       "             ((0, 2), (1, 0)): -3.6341644956989927,\n",
       "             ((0, 2), (0, 1)): -12.386597686704665,\n",
       "             ((0, 2), (-1, 0)): -12.943016743759706,\n",
       "             ((0, 2), (0, -1)): -13.102707737863348,\n",
       "             ((0, 5), (1, 0)): -2.691205668192497,\n",
       "             ((0, 5), (0, 1)): -3.0993415498561045,\n",
       "             ((0, 5), (-1, 0)): -1.3220259209983178,\n",
       "             ((0, 5), (0, -1)): -2.936621392285109,\n",
       "             ((0, 4), (1, 0)): -3.017131689992354,\n",
       "             ((0, 4), (0, 1)): -1.5610676565682888,\n",
       "             ((0, 4), (-1, 0)): -2.5241843569943354,\n",
       "             ((0, 4), (0, -1)): -2.7022284745221867,\n",
       "             ((0, 3), (1, 0)): -10.0,\n",
       "             ((0, 3), (0, 1)): -1.7309330699357437,\n",
       "             ((0, 3), (-1, 0)): -3.43028908164677,\n",
       "             ((0, 3), (0, -1)): -12.447957388635054,\n",
       "             ((0, 6), (1, 0)): -1.9404951564725579,\n",
       "             ((0, 6), (0, 1)): 0.9467607741132015,\n",
       "             ((0, 6), (-1, 0)): -1.829614631633734,\n",
       "             ((0, 6), (0, -1)): -1.9427895685010033,\n",
       "             ((1, 7), (1, 0)): 2.1530002113813973,\n",
       "             ((1, 7), (0, 1)): -1.6973394523970642,\n",
       "             ((1, 7), (-1, 0)): -1.809303067879191,\n",
       "             ((1, 7), (0, -1)): -1.5598220719449856,\n",
       "             ((0, 7), (1, 0)): 1.532962364919996,\n",
       "             ((0, 7), (0, 1)): -1.6999100153515292,\n",
       "             ((0, 7), (-1, 0)): -1.7010514128829655,\n",
       "             ((0, 7), (0, -1)): -1.7009282226787779,\n",
       "             ((7, 4), (1, 0)): -10.0,\n",
       "             ((7, 4), (0, 1)): -1.2694610778443114,\n",
       "             ((7, 4), (-1, 0)): -10.0,\n",
       "             ((7, 4), (0, -1)): -2.078383233532934})"
      ]
     },
     "execution_count": 10,
     "metadata": {},
     "output_type": "execute_result"
    }
   ],
   "source": [
    "q_agent.Q"
   ]
  },
  {
   "cell_type": "code",
   "execution_count": null,
   "metadata": {},
   "outputs": [],
   "source": []
  }
 ],
 "metadata": {
  "interpreter": {
   "hash": "8e627b864e5c744f6bcd67da2c168f83afae70864f34fe154f324beebdf4949f"
  },
  "kernelspec": {
   "display_name": "Python 3 (ipykernel)",
   "language": "python",
   "name": "python3"
  },
  "language_info": {
   "codemirror_mode": {
    "name": "ipython",
    "version": 3
   },
   "file_extension": ".py",
   "mimetype": "text/x-python",
   "name": "python",
   "nbconvert_exporter": "python",
   "pygments_lexer": "ipython3",
   "version": "3.8.11"
  },
  "pycharm": {
   "stem_cell": {
    "cell_type": "raw",
    "metadata": {
     "collapsed": false
    },
    "source": []
   }
  }
 },
 "nbformat": 4,
 "nbformat_minor": 1
}

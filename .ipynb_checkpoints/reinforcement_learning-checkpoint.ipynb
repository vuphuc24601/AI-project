{
 "cells": [
  {
   "cell_type": "markdown",
   "metadata": {},
   "source": [
    "# Reinforcement Learning\n",
    "\n",
    "This Jupyter notebook acts as supporting material for **Chapter 21 Reinforcement Learning** of the book* Artificial Intelligence: A Modern Approach*. This notebook makes use of the implementations in `rl.py` module. We also make use of implementation of MDPs in the `mdp.py` module to test our agents. It might be helpful if you have already gone through the Jupyter notebook dealing with Markov decision process. Let us import everything from the `rl` module. It might be helpful to view the source of some of our implementations. Please refer to the Introductory Jupyter notebook for more details."
   ]
  },
  {
   "cell_type": "code",
   "execution_count": 42,
   "metadata": {},
   "outputs": [
    {
     "data": {
      "application/vnd.jupyter.widget-view+json": {
       "model_id": "521eeb1acc124246b5d94f5cdd8a644e",
       "version_major": 2,
       "version_minor": 0
      },
      "text/plain": [
       "Dropdown(description='R:', index=1, options=('-0.01', '-0.3', '-0.6'), value='-0.3')"
      ]
     },
     "metadata": {},
     "output_type": "display_data"
    },
    {
     "data": {
      "application/vnd.jupyter.widget-view+json": {
       "model_id": "78921a7a149c41b5b8d1f5d9c2be058c",
       "version_major": 2,
       "version_minor": 0
      },
      "text/plain": [
       "Dropdown(description='Threshold:', index=1, options=('1000', '5000', '10000'), value='5000')"
      ]
     },
     "metadata": {},
     "output_type": "display_data"
    },
    {
     "data": {
      "application/vnd.jupyter.widget-view+json": {
       "model_id": "d303ecae71ec4803bec190aa6cabdcbf",
       "version_major": 2,
       "version_minor": 0
      },
      "text/plain": [
       "Dropdown(description='M:', index=1, options=('2000', '5000', '10000'), value='5000')"
      ]
     },
     "metadata": {},
     "output_type": "display_data"
    },
    {
     "data": {
      "application/vnd.jupyter.widget-view+json": {
       "model_id": "b669ad273eb14949848046d2b4be9383",
       "version_major": 2,
       "version_minor": 0
      },
      "text/plain": [
       "Dropdown(description='B:', index=1, options=('10', '30', '50'), value='30')"
      ]
     },
     "metadata": {},
     "output_type": "display_data"
    },
    {
     "data": {
      "application/vnd.jupyter.widget-view+json": {
       "model_id": "c1d0cb27ec6d44ffb83fc85dd27304ae",
       "version_major": 2,
       "version_minor": 0
      },
      "text/plain": [
       "Dropdown(description='K:', index=1, options=('0', '100', '500', '10000'), value='100')"
      ]
     },
     "metadata": {},
     "output_type": "display_data"
    },
    {
     "data": {
      "application/vnd.jupyter.widget-view+json": {
       "model_id": "a72cb312f38849ffb759a4ddbc9eeedd",
       "version_major": 2,
       "version_minor": 0
      },
      "text/plain": [
       "Dropdown(description='Ne:', index=1, options=('60', '100', '200', '300'), value='100')"
      ]
     },
     "metadata": {},
     "output_type": "display_data"
    },
    {
     "data": {
      "application/vnd.jupyter.widget-view+json": {
       "model_id": "afbbea594bd34d07bffacdf1431440ba",
       "version_major": 2,
       "version_minor": 0
      },
      "text/plain": [
       "Dropdown(description='Rplus:', index=1, options=('0', '2', '5', '1000'), value='2')"
      ]
     },
     "metadata": {},
     "output_type": "display_data"
    },
    {
     "data": {
      "application/vnd.jupyter.widget-view+json": {
       "model_id": "730bb29f149841a5991f1f419d67de15",
       "version_major": 2,
       "version_minor": 0
      },
      "text/plain": [
       "Dropdown(description='tau:', index=2, options=('0.25', '0.5', '1', '2', '3'), value='1')"
      ]
     },
     "metadata": {},
     "output_type": "display_data"
    },
    {
     "data": {
      "application/vnd.jupyter.widget-view+json": {
       "model_id": "b44fbbc16626463081f7887209093995",
       "version_major": 2,
       "version_minor": 0
      },
      "text/plain": [
       "Dropdown(description='alpha_num:', index=1, options=('60', '200', '500', '1000'), value='200')"
      ]
     },
     "metadata": {},
     "output_type": "display_data"
    }
   ],
   "source": [
    "import ipywidgets as widgets\n",
    "\n",
    "R = widgets.Dropdown(\n",
    "    options=['-0.01', '-0.3', '-0.6'],\n",
    "    value='-0.3',\n",
    "    description='R:',\n",
    "    disabled=False,\n",
    ")\n",
    "\n",
    "Threshold = widgets.Dropdown(\n",
    "    options=['1000', '5000', '10000'],\n",
    "    value='5000',\n",
    "    description='Threshold:',\n",
    "    disabled=False,\n",
    ")\n",
    "\n",
    "M = widgets.Dropdown(\n",
    "    options=['2000', '5000', '10000'],\n",
    "    value='5000',\n",
    "    description='M:',\n",
    "    disabled=False,\n",
    ")\n",
    "\n",
    "B = widgets.Dropdown(\n",
    "    options=['10', '30', '50'],\n",
    "    value='30',\n",
    "    description='B:',\n",
    "    disabled=False,\n",
    ")\n",
    "\n",
    "K = widgets.Dropdown(\n",
    "    options=['0', '100', '500', '10000'],\n",
    "    value='100',\n",
    "    description='K:',\n",
    "    disabled=False,\n",
    ")\n",
    "\n",
    "tau = widgets.Dropdown(\n",
    "    options=['0.25','0.5', '1', '2', '3'],\n",
    "    value='1',\n",
    "    description='tau:',\n",
    "    disabled=False,\n",
    ")\n",
    "\n",
    "alpha_num = widgets.Dropdown(\n",
    "    options=['60','200', '500', '1000'],\n",
    "    value='200',\n",
    "    description='alpha_num:',\n",
    "    disabled=False,\n",
    ")\n",
    "\n",
    "Ne = widgets.Dropdown(\n",
    "    options=['60','100', '200', '300'],\n",
    "    value='100',\n",
    "    description='Ne:',\n",
    "    disabled=False,\n",
    ")\n",
    "\n",
    "Rplus = widgets.Dropdown(\n",
    "    options=['0','2', '5', '1000'],\n",
    "    value='2',\n",
    "    description='Rplus:',\n",
    "    disabled=False,\n",
    ")\n",
    "\n",
    "\n",
    "\n",
    "display(R, Threshold, M, B, K, Ne, Rplus, tau, alpha_num)\n"
   ]
  },
  {
   "cell_type": "code",
   "execution_count": 30,
   "metadata": {},
   "outputs": [],
   "source": [
    "R = float(R.value)\n",
    "Threshold = float(Threshold.value)\n",
    "M = int(M.value)\n",
    "B = int(B.value)\n",
    "K = int(K.value)\n",
    "tau = float(tau.value)\n",
    "alpha_num = int(alpha_num.value)\n",
    "alpha = lambda n: alpha_num /(alpha_num-1+n)"
   ]
  },
  {
   "cell_type": "code",
   "execution_count": 31,
   "metadata": {},
   "outputs": [],
   "source": [
    "from reinforcement_learning4e import *"
   ]
  },
  {
   "cell_type": "code",
   "execution_count": 32,
   "metadata": {},
   "outputs": [],
   "source": [
    "from mdp4e import GridMDP\n",
    "sequential_decision_environment = GridMDP([[R, R, R, R, R, R, R, 10],\n",
    "                                           [R, R, -1, R, R, R, R, R],\n",
    "                                           [R, -1, -10, -1, R, R, R, -1],\n",
    "                                           [R, R, -1, R, None, None, None, -10],\n",
    "                                           [-1, R, R, R, R, -1, R, -1],\n",
    "                                           [-10, -1, R, R, -1, -10, -1, R],\n",
    "                                           [-1, R, R, R, R, -1, R, R],\n",
    "                                           [R, R, R, R, R, R, R, R]],\n",
    "                                          terminals=[(7, 7)])"
   ]
  },
  {
   "cell_type": "markdown",
   "metadata": {},
   "source": [
    "The `sequential_decision_environment` is a GridMDP object as shown below. The rewards are **+1** and **-1** in the terminal states, and **-0.04** in the rest. <img src=\"files/images/mdp.png\"> Now we define actions and a policy similar to **Fig 21.1** in the book."
   ]
  },
  {
   "cell_type": "code",
   "execution_count": 33,
   "metadata": {},
   "outputs": [],
   "source": [
    "from mdp4e import value_iteration"
   ]
  },
  {
   "cell_type": "markdown",
   "metadata": {
    "collapsed": true
   },
   "source": [
    "## ACTIVE REINFORCEMENT LEARNING\n",
    "\n",
    "Unlike Passive Reinforcement Learning in Active Reinforcement Learning we are not bound by a policy pi and we need to select our actions. In other words the agent needs to learn an optimal policy. The fundamental tradeoff the agent needs to face is that of exploration vs. exploitation. "
   ]
  },
  {
   "cell_type": "markdown",
   "metadata": {},
   "source": [
    "### QLearning Agent\n",
    "\n",
    "The QLearningAgent class in the rl module implements the Agent Program described in **Fig 21.8** of the AIMA Book. In Q-Learning the agent learns an action-value function Q which gives the utility of taking a given action in a particular state. Q-Learning does not required a transition model and hence is a model free method. Let us look into the source before we see some usage examples."
   ]
  },
  {
   "cell_type": "code",
   "execution_count": 34,
   "metadata": {},
   "outputs": [],
   "source": [
    "%psource QLearningAgent"
   ]
  },
  {
   "cell_type": "markdown",
   "metadata": {},
   "source": [
    "The Agent Program can be obtained by creating the instance of the class by passing the appropriate parameters. Because of the __ call __ method the object that is created behaves like a callable and returns an appropriate action as most Agent Programs do. To instantiate the object we need a mdp similar to the PassiveTDAgent.\n",
    "\n",
    " Let us use the same GridMDP object we used above. **Figure 17.1 (sequential_decision_environment)** is similar to **Figure 21.1** but has some discounting as **gamma = 0.9**. The class also implements an exploration function **f** which returns fixed **Rplus** until agent has visited state, action **Ne** number of times. This is the same as the one defined on page **842** of the book. The method **actions_in_state** returns actions possible in given state. It is useful when applying max and argmax operations."
   ]
  },
  {
   "cell_type": "markdown",
   "metadata": {},
   "source": [
    "Let us create our object now. We also use the **same alpha** as given in the footnote of the book on **page 837**. We use **Rplus = 2** and **Ne = 5** as defined on page 843. **Fig 21.7**  "
   ]
  },
  {
   "cell_type": "code",
   "execution_count": 35,
   "metadata": {},
   "outputs": [],
   "source": [
    "q_agent = QLearningAgent(sequential_decision_environment, Ne=Ne, Rplus=Rplus, \n",
    "                         alpha=alpha)\n",
    "                         "
   ]
  },
  {
   "cell_type": "markdown",
   "metadata": {},
   "source": [
    "Now to try out the q_agent we make use of the **run_single_trial** function in rl.py (which was also used above). Let us use **200** iterations."
   ]
  },
  {
   "cell_type": "code",
   "execution_count": 36,
   "metadata": {},
   "outputs": [
    {
     "ename": "TypeError",
     "evalue": "'<' not supported between instances of 'float' and 'Dropdown'",
     "output_type": "error",
     "traceback": [
      "\u001b[0;31m---------------------------------------------------------------------------\u001b[0m",
      "\u001b[0;31mTypeError\u001b[0m                                 Traceback (most recent call last)",
      "Input \u001b[0;32mIn [36]\u001b[0m, in \u001b[0;36m<cell line: 1>\u001b[0;34m()\u001b[0m\n\u001b[1;32m      1\u001b[0m \u001b[38;5;28;01mfor\u001b[39;00m i \u001b[38;5;129;01min\u001b[39;00m \u001b[38;5;28mrange\u001b[39m(\u001b[38;5;241m1000\u001b[39m):\n\u001b[0;32m----> 2\u001b[0m     \u001b[43mrun_single_trial\u001b[49m\u001b[43m(\u001b[49m\u001b[43mq_agent\u001b[49m\u001b[43m,\u001b[49m\u001b[43msequential_decision_environment\u001b[49m\u001b[43m)\u001b[49m\n",
      "File \u001b[0;32m~/Desktop/AI-project/reinforcement_learning4e.py:358\u001b[0m, in \u001b[0;36mrun_single_trial\u001b[0;34m(agent_program, mdp, threshold)\u001b[0m\n\u001b[1;32m    356\u001b[0m current_reward \u001b[38;5;241m=\u001b[39m mdp\u001b[38;5;241m.\u001b[39mR(current_state)\n\u001b[1;32m    357\u001b[0m percept \u001b[38;5;241m=\u001b[39m (current_state, current_reward)\n\u001b[0;32m--> 358\u001b[0m next_action \u001b[38;5;241m=\u001b[39m \u001b[43magent_program\u001b[49m\u001b[43m(\u001b[49m\u001b[43mpercept\u001b[49m\u001b[43m)\u001b[49m\n\u001b[1;32m    359\u001b[0m agent_program\u001b[38;5;241m.\u001b[39mesp \u001b[38;5;241m=\u001b[39m \u001b[38;5;28mfloat\u001b[39m(np\u001b[38;5;241m.\u001b[39mexp(\u001b[38;5;241m-\u001b[39mcnt))\n\u001b[1;32m    360\u001b[0m cnt \u001b[38;5;241m+\u001b[39m\u001b[38;5;241m=\u001b[39m \u001b[38;5;241m1\u001b[39m\n",
      "File \u001b[0;32m~/Desktop/AI-project/reinforcement_learning4e.py:326\u001b[0m, in \u001b[0;36mQLearningAgent.__call__\u001b[0;34m(self, percept)\u001b[0m\n\u001b[1;32m    320\u001b[0m     \u001b[38;5;28mself\u001b[39m\u001b[38;5;241m.\u001b[39ms, \u001b[38;5;28mself\u001b[39m\u001b[38;5;241m.\u001b[39mr \u001b[38;5;241m=\u001b[39m s1, r1\n\u001b[1;32m    321\u001b[0m     \u001b[38;5;66;03m# if self.eps > np.random.uniform(0.0, 1.0):\u001b[39;00m\n\u001b[1;32m    322\u001b[0m     \u001b[38;5;66;03m#     self.a = actions_in_state(s1)[np.random.choice(4)]\u001b[39;00m\n\u001b[1;32m    323\u001b[0m     \u001b[38;5;66;03m# else:\u001b[39;00m\n\u001b[1;32m    324\u001b[0m     \u001b[38;5;66;03m#     self.a = max(actions_in_state(s1), key=lambda a1: self.f(Q[s1, a1], Nsa[s1, a1]))\u001b[39;00m\n\u001b[0;32m--> 326\u001b[0m     \u001b[38;5;28mself\u001b[39m\u001b[38;5;241m.\u001b[39ma \u001b[38;5;241m=\u001b[39m \u001b[38;5;28;43mmax\u001b[39;49m\u001b[43m(\u001b[49m\u001b[43mactions_in_state\u001b[49m\u001b[43m(\u001b[49m\u001b[43ms1\u001b[49m\u001b[43m)\u001b[49m\u001b[43m,\u001b[49m\u001b[43m \u001b[49m\u001b[43mkey\u001b[49m\u001b[38;5;241;43m=\u001b[39;49m\u001b[38;5;28;43;01mlambda\u001b[39;49;00m\u001b[43m \u001b[49m\u001b[43ma1\u001b[49m\u001b[43m:\u001b[49m\u001b[43m \u001b[49m\u001b[38;5;28;43mself\u001b[39;49m\u001b[38;5;241;43m.\u001b[39;49m\u001b[43mf\u001b[49m\u001b[43m(\u001b[49m\u001b[43mQ\u001b[49m\u001b[43m[\u001b[49m\u001b[43ms1\u001b[49m\u001b[43m,\u001b[49m\u001b[43m \u001b[49m\u001b[43ma1\u001b[49m\u001b[43m]\u001b[49m\u001b[43m,\u001b[49m\u001b[43m \u001b[49m\u001b[43mNsa\u001b[49m\u001b[43m[\u001b[49m\u001b[43ms1\u001b[49m\u001b[43m,\u001b[49m\u001b[43m \u001b[49m\u001b[43ma1\u001b[49m\u001b[43m]\u001b[49m\u001b[43m)\u001b[49m\u001b[43m)\u001b[49m\n\u001b[1;32m    327\u001b[0m \u001b[38;5;28;01mreturn\u001b[39;00m \u001b[38;5;28mself\u001b[39m\u001b[38;5;241m.\u001b[39ma\n",
      "File \u001b[0;32m~/Desktop/AI-project/reinforcement_learning4e.py:326\u001b[0m, in \u001b[0;36mQLearningAgent.__call__.<locals>.<lambda>\u001b[0;34m(a1)\u001b[0m\n\u001b[1;32m    320\u001b[0m     \u001b[38;5;28mself\u001b[39m\u001b[38;5;241m.\u001b[39ms, \u001b[38;5;28mself\u001b[39m\u001b[38;5;241m.\u001b[39mr \u001b[38;5;241m=\u001b[39m s1, r1\n\u001b[1;32m    321\u001b[0m     \u001b[38;5;66;03m# if self.eps > np.random.uniform(0.0, 1.0):\u001b[39;00m\n\u001b[1;32m    322\u001b[0m     \u001b[38;5;66;03m#     self.a = actions_in_state(s1)[np.random.choice(4)]\u001b[39;00m\n\u001b[1;32m    323\u001b[0m     \u001b[38;5;66;03m# else:\u001b[39;00m\n\u001b[1;32m    324\u001b[0m     \u001b[38;5;66;03m#     self.a = max(actions_in_state(s1), key=lambda a1: self.f(Q[s1, a1], Nsa[s1, a1]))\u001b[39;00m\n\u001b[0;32m--> 326\u001b[0m     \u001b[38;5;28mself\u001b[39m\u001b[38;5;241m.\u001b[39ma \u001b[38;5;241m=\u001b[39m \u001b[38;5;28mmax\u001b[39m(actions_in_state(s1), key\u001b[38;5;241m=\u001b[39m\u001b[38;5;28;01mlambda\u001b[39;00m a1: \u001b[38;5;28;43mself\u001b[39;49m\u001b[38;5;241;43m.\u001b[39;49m\u001b[43mf\u001b[49m\u001b[43m(\u001b[49m\u001b[43mQ\u001b[49m\u001b[43m[\u001b[49m\u001b[43ms1\u001b[49m\u001b[43m,\u001b[49m\u001b[43m \u001b[49m\u001b[43ma1\u001b[49m\u001b[43m]\u001b[49m\u001b[43m,\u001b[49m\u001b[43m \u001b[49m\u001b[43mNsa\u001b[49m\u001b[43m[\u001b[49m\u001b[43ms1\u001b[49m\u001b[43m,\u001b[49m\u001b[43m \u001b[49m\u001b[43ma1\u001b[49m\u001b[43m]\u001b[49m\u001b[43m)\u001b[49m)\n\u001b[1;32m    327\u001b[0m \u001b[38;5;28;01mreturn\u001b[39;00m \u001b[38;5;28mself\u001b[39m\u001b[38;5;241m.\u001b[39ma\n",
      "File \u001b[0;32m~/Desktop/AI-project/reinforcement_learning4e.py:290\u001b[0m, in \u001b[0;36mQLearningAgent.f\u001b[0;34m(self, u, n)\u001b[0m\n\u001b[1;32m    286\u001b[0m \u001b[38;5;28;01mdef\u001b[39;00m \u001b[38;5;21mf\u001b[39m(\u001b[38;5;28mself\u001b[39m, u, n):\n\u001b[1;32m    287\u001b[0m     \u001b[38;5;124;03m\"\"\"Exploration function. Returns fixed Rplus until\u001b[39;00m\n\u001b[1;32m    288\u001b[0m \u001b[38;5;124;03m    agent has visited state, action a Ne number of times.\u001b[39;00m\n\u001b[1;32m    289\u001b[0m \u001b[38;5;124;03m    Same as ADP agent in book.\"\"\"\u001b[39;00m\n\u001b[0;32m--> 290\u001b[0m     \u001b[38;5;28;01mif\u001b[39;00m \u001b[43mn\u001b[49m\u001b[43m \u001b[49m\u001b[38;5;241;43m<\u001b[39;49m\u001b[43m \u001b[49m\u001b[38;5;28;43mself\u001b[39;49m\u001b[38;5;241;43m.\u001b[39;49m\u001b[43mNe\u001b[49m:\n\u001b[1;32m    291\u001b[0m         \u001b[38;5;28;01mreturn\u001b[39;00m \u001b[38;5;28mself\u001b[39m\u001b[38;5;241m.\u001b[39mRplus\n\u001b[1;32m    292\u001b[0m     \u001b[38;5;28;01melse\u001b[39;00m:\n",
      "\u001b[0;31mTypeError\u001b[0m: '<' not supported between instances of 'float' and 'Dropdown'"
     ]
    }
   ],
   "source": [
    "for i in range(1000):\n",
    "    run_single_trial(q_agent,sequential_decision_environment)"
   ]
  },
  {
   "cell_type": "markdown",
   "metadata": {},
   "source": [
    "Now let us see the Q Values. The keys are state-action pairs. Where different actions correspond according to:\n",
    "\n",
    "north = (0, 1)\n",
    "south = (0,-1)\n",
    "west = (-1, 0)\n",
    "east = (1, 0)"
   ]
  },
  {
   "cell_type": "markdown",
   "metadata": {},
   "source": [
    "The Utility **U** of each state is related to **Q** by the following equation.\n",
    "\n",
    "**U (s) = max <sub>a</sub> Q(s, a)**\n",
    "\n",
    "Let us convert the Q Values above into U estimates.\n",
    "\n"
   ]
  },
  {
   "cell_type": "code",
   "execution_count": 37,
   "metadata": {},
   "outputs": [],
   "source": [
    "U = defaultdict(lambda: -1000.) # Very Large Negative Value for Comparison see below.\n",
    "for state_action, value in q_agent.Q.items():\n",
    "    state, action = state_action\n",
    "    if U[state] < value:\n",
    "                U[state] = value"
   ]
  },
  {
   "cell_type": "code",
   "execution_count": 38,
   "metadata": {},
   "outputs": [
    {
     "data": {
      "text/plain": [
       "0.0"
      ]
     },
     "execution_count": 38,
     "metadata": {},
     "output_type": "execute_result"
    }
   ],
   "source": [
    "U.get((0,0))"
   ]
  },
  {
   "cell_type": "markdown",
   "metadata": {},
   "source": [
    "Let us finally compare these estimates to value_iteration results."
   ]
  },
  {
   "cell_type": "code",
   "execution_count": 39,
   "metadata": {},
   "outputs": [
    {
     "name": "stdout",
     "output_type": "stream",
     "text": [
      "-1.3092541680143097\n"
     ]
    }
   ],
   "source": [
    "print(value_iteration(sequential_decision_environment).get((0,0)))"
   ]
  },
  {
   "cell_type": "code",
   "execution_count": 40,
   "metadata": {},
   "outputs": [],
   "source": [
    "%matplotlib inline\n",
    "import matplotlib.pyplot as plt\n",
    "\n",
    "def graph_utility_estimates_q_learning(agent_program, mdp, no_of_iterations, states_to_graph):\n",
    "    graphs = {state:[] for state in states_to_graph}\n",
    "    for iteration in range(1,no_of_iterations+1):\n",
    "        run_single_trial(agent_program, mdp)\n",
    "        U = defaultdict(lambda: -1000.) # Very Large Negative Value for Comparison see below.\n",
    "        for state_action, value in q_agent.Q.items():\n",
    "            state, action = state_action\n",
    "            if U[state] < value:\n",
    "                        U[state] = value\n",
    "        for state in states_to_graph:\n",
    "            graphs[state].append((iteration, U[state]))\n",
    "    for state, value in graphs.items():\n",
    "        state_x, state_y = zip(*value)\n",
    "        plt.plot(state_x, state_y, label=str(state))\n",
    "#     plt.ylim([0,1.2])\n",
    "    plt.legend(loc='lower right')\n",
    "    plt.xlabel('Iterations')\n",
    "    plt.ylabel('U')"
   ]
  },
  {
   "cell_type": "code",
   "execution_count": 41,
   "metadata": {},
   "outputs": [
    {
     "data": {
      "image/png": "[encoded data removed]",
      "text/plain": [
       "<Figure size 432x288 with 1 Axes>"
      ]
     },
     "metadata": {
      "needs_background": "light"
     },
     "output_type": "display_data"
    }
   ],
   "source": [
    "q_agent = QLearningAgent(sequential_decision_environment, Ne=100, Rplus=2, \n",
    "                         alpha=lambda n: 500./(499+n))\n",
    "graph_utility_estimates_q_learning(q_agent, sequential_decision_environment, 5000, [(0,0)])\n"
   ]
  }
 ],
 "metadata": {
  "interpreter": {
   "hash": "8e627b864e5c744f6bcd67da2c168f83afae70864f34fe154f324beebdf4949f"
  },
  "kernelspec": {
   "display_name": "Python 3 (ipykernel)",
   "language": "python",
   "name": "python3"
  },
  "language_info": {
   "codemirror_mode": {
    "name": "ipython",
    "version": 3
   },
   "file_extension": ".py",
   "mimetype": "text/x-python",
   "name": "python",
   "nbconvert_exporter": "python",
   "pygments_lexer": "ipython3",
   "version": "3.8.11"
  },
  "pycharm": {
   "stem_cell": {
    "cell_type": "raw",
    "metadata": {
     "collapsed": false
    },
    "source": []
   }
  }
 },
 "nbformat": 4,
 "nbformat_minor": 1
}

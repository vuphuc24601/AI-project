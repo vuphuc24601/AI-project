{
 "cells": [
  {
   "cell_type": "markdown",
   "metadata": {},
   "source": [
    "# Reinforcement Learning\n",
    "\n",
    "This Jupyter notebook acts as supporting material for **Chapter 21 Reinforcement Learning** of the book* Artificial Intelligence: A Modern Approach*. This notebook makes use of the implementations in `rl.py` module. We also make use of implementation of MDPs in the `mdp.py` module to test our agents. It might be helpful if you have already gone through the Jupyter notebook dealing with Markov decision process. Let us import everything from the `rl` module. It might be helpful to view the source of some of our implementations. Please refer to the Introductory Jupyter notebook for more details."
   ]
  },
  {
   "cell_type": "code",
   "execution_count": 1,
   "metadata": {},
   "outputs": [
    {
     "data": {
      "application/vnd.jupyter.widget-view+json": {
       "model_id": "7cb1b9af00a243849dd811ce61609866",
       "version_major": 2,
       "version_minor": 0
      },
      "text/plain": [
       "Dropdown(description='R: ', index=1, options=(-0.01, -0.3, -0.6), value=-0.3)"
      ]
     },
     "metadata": {},
     "output_type": "display_data"
    },
    {
     "data": {
      "application/vnd.jupyter.widget-view+json": {
       "model_id": "0d2123f1163f4d68857bc3974c151d5b",
       "version_major": 2,
       "version_minor": 0
      },
      "text/plain": [
       "Dropdown(description='threshold: ', index=1, options=(100, 500, 1000), value=500)"
      ]
     },
     "metadata": {},
     "output_type": "display_data"
    },
    {
     "data": {
      "application/vnd.jupyter.widget-view+json": {
       "model_id": "53109b4a9b284d229429aa6accb5c92a",
       "version_major": 2,
       "version_minor": 0
      },
      "text/plain": [
       "Dropdown(description='gamma: ', index=3, options=(0.8, 0.85, 0.9, 0.98, 1), value=0.98)"
      ]
     },
     "metadata": {},
     "output_type": "display_data"
    },
    {
     "data": {
      "application/vnd.jupyter.widget-view+json": {
       "model_id": "f2c99052cf1d47c88b1e79ec2a3e747b",
       "version_major": 2,
       "version_minor": 0
      },
      "text/plain": [
       "Dropdown(description='no_of_episodes: ', index=1, options=(1000, 5000, 10000), value=5000)"
      ]
     },
     "metadata": {},
     "output_type": "display_data"
    },
    {
     "data": {
      "application/vnd.jupyter.widget-view+json": {
       "model_id": "fd0fc894eed548938a0fc48d304867e2",
       "version_major": 2,
       "version_minor": 0
      },
      "text/plain": [
       "Dropdown(description='M: ', index=1, options=(2000, 50000, 100000), value=50000)"
      ]
     },
     "metadata": {},
     "output_type": "display_data"
    },
    {
     "data": {
      "application/vnd.jupyter.widget-view+json": {
       "model_id": "f077e9b065154f05a5716c2614cfb094",
       "version_major": 2,
       "version_minor": 0
      },
      "text/plain": [
       "Dropdown(description='B: ', index=1, options=(10, 30, 50), value=30)"
      ]
     },
     "metadata": {},
     "output_type": "display_data"
    },
    {
     "data": {
      "application/vnd.jupyter.widget-view+json": {
       "model_id": "89afc3cbe7d44f8b8ab8cdaa82a8db2b",
       "version_major": 2,
       "version_minor": 0
      },
      "text/plain": [
       "Dropdown(description='K: ', index=2, options=(0, 100, 500, 10000), value=500)"
      ]
     },
     "metadata": {},
     "output_type": "display_data"
    },
    {
     "data": {
      "application/vnd.jupyter.widget-view+json": {
       "model_id": "0a43a9f24cd34bb8bd1c198dc5b4f3a6",
       "version_major": 2,
       "version_minor": 0
      },
      "text/plain": [
       "Dropdown(description='Ne: ', index=1, options=(60, 100, 200, 300), value=100)"
      ]
     },
     "metadata": {},
     "output_type": "display_data"
    },
    {
     "data": {
      "application/vnd.jupyter.widget-view+json": {
       "model_id": "3d6a4b84c4e1480da37101b1e08eccf6",
       "version_major": 2,
       "version_minor": 0
      },
      "text/plain": [
       "Dropdown(description='Rplus:', index=1, options=(0, 2, 5, 1000), value=2)"
      ]
     },
     "metadata": {},
     "output_type": "display_data"
    },
    {
     "data": {
      "application/vnd.jupyter.widget-view+json": {
       "model_id": "e4eebfc334a34f4d814ca50bcada6236",
       "version_major": 2,
       "version_minor": 0
      },
      "text/plain": [
       "Dropdown(description='alpha_num: ', index=1, options=(60, 200, 500, 1000), value=200)"
      ]
     },
     "metadata": {},
     "output_type": "display_data"
    }
   ],
   "source": [
    "import ipywidgets as widgets\n",
    "\n",
    "\n",
    "R = widgets.Dropdown(\n",
    "    options=[-0.01, -0.3, -0.6],\n",
    "    value=-0.3,\n",
    "    description='R: ',\n",
    "    disabled=False,\n",
    ")\n",
    "\n",
    "gamma = widgets.Dropdown(\n",
    "    options=[0.80, 0.85, 0.9, 0.98, 1],\n",
    "    value=0.98,\n",
    "    description='gamma: ',\n",
    "    disabled=False,\n",
    ")\n",
    "\n",
    "no_of_episodes = widgets.Dropdown(\n",
    "    options=[1000, 5000, 10000],\n",
    "    value=5000,\n",
    "    description='no_of_episodes: ',\n",
    "    disabled=False,\n",
    ")\n",
    "\n",
    "threshold = widgets.Dropdown(\n",
    "    options=[100, 500, 1000],\n",
    "    value=500,\n",
    "    description='threshold: ',\n",
    "    disabled=False,\n",
    ")\n",
    "\n",
    "M = widgets.Dropdown(\n",
    "    options=[2000, 50000, 100000],\n",
    "    value=50000,\n",
    "    description='M: ',\n",
    "    disabled=False,\n",
    ")\n",
    "\n",
    "B = widgets.Dropdown(\n",
    "    options=[10, 30, 50],\n",
    "    value=30,\n",
    "    description='B: ',\n",
    "    disabled=False,\n",
    ")\n",
    "\n",
    "K = widgets.Dropdown(\n",
    "    options=[0, 100, 500, 10000],\n",
    "    value=500,\n",
    "    description='K: ',\n",
    "    disabled=False,\n",
    ")\n",
    "\n",
    "alpha_num = widgets.Dropdown(\n",
    "    options=[60,200, 500, 1000],\n",
    "    value=200,\n",
    "    description='alpha_num: ',\n",
    "    disabled=False,\n",
    ")\n",
    "\n",
    "Ne = widgets.Dropdown(\n",
    "    options=[60,100, 200, 300],\n",
    "    value=100,\n",
    "    description='Ne: ',\n",
    "    disabled=False,\n",
    ")\n",
    "\n",
    "Rplus = widgets.Dropdown(\n",
    "    options=[0,2, 5, 1000],\n",
    "    value=2,\n",
    "    description='Rplus:',\n",
    "    disabled=False,\n",
    ")\n",
    "\n",
    "display(R, threshold, gamma, no_of_episodes, M, B, K, Ne, Rplus, alpha_num)\n"
   ]
  },
  {
   "cell_type": "code",
   "execution_count": 2,
   "metadata": {},
   "outputs": [],
   "source": [
    "R = float(R.value)\n",
    "gamma = float(gamma.value)\n",
    "no_of_episodes = int(no_of_episodes.value)\n",
    "threshold = int(threshold.value)\n",
    "M = int(M.value)\n",
    "B = int(B.value)\n",
    "K = int(K.value)\n",
    "Ne = int(Ne.value)\n",
    "Rplus = int(Rplus.value)\n",
    "alpha_num = int(alpha_num.value)\n",
    "\n",
    "alpha = lambda n: alpha_num /(alpha_num-1+n)"
   ]
  },
  {
   "cell_type": "code",
   "execution_count": 3,
   "metadata": {},
   "outputs": [],
   "source": [
    "from reinforcement_learning4e import *"
   ]
  },
  {
   "cell_type": "code",
   "execution_count": 4,
   "metadata": {},
   "outputs": [],
   "source": [
    "from mdp4e import GridMDP\n",
    "from mdp4e import value_iteration\n",
    "sequential_decision_environment = GridMDP([[R, R, R, R, R, R, R, 10],\n",
    "                                           [R, R, -1, R, R, R, R, R],\n",
    "                                           [R, -1, -10, -1, R, R, R, -1],\n",
    "                                           [R, R, -1, R, None, None, None, -10],\n",
    "                                           [-1, R, R, R, R, -1, R, -1],\n",
    "                                           [-10, -1, R, R, -1, -10, -1, R],\n",
    "                                           [-1, R, R, R, R, -1, R, R],\n",
    "                                           [R, R, R, R, R, R, R, R]],\n",
    "                                          terminals=[(7, 7)],gamma = gamma)"
   ]
  },
  {
   "cell_type": "markdown",
   "metadata": {
    "collapsed": true
   },
   "source": [
    "## ACTIVE REINFORCEMENT LEARNING\n",
    "\n",
    "Unlike Passive Reinforcement Learning in Active Reinforcement Learning we are not bound by a policy pi and we need to select our actions. In other words the agent needs to learn an optimal policy. The fundamental tradeoff the agent needs to face is that of exploration vs. exploitation. "
   ]
  },
  {
   "cell_type": "markdown",
   "metadata": {},
   "source": [
    "### QLearning Agent\n",
    "\n",
    "The QLearningAgent class in the rl module implements the Agent Program described in **Fig 21.8** of the AIMA Book. In Q-Learning the agent learns an action-value function Q which gives the utility of taking a given action in a particular state. Q-Learning does not required a transition model and hence is a model free method. Let us look into the source before we see some usage examples."
   ]
  },
  {
   "cell_type": "code",
   "execution_count": 5,
   "metadata": {},
   "outputs": [],
   "source": [
    "%matplotlib inline\n",
    "import matplotlib.pyplot as plt\n",
    "from scipy.interpolate import make_interp_spline\n",
    "\n",
    "def graph_utility_estimates_q_learning(agent_program, mdp, no_of_episodes, states_to_graph):\n",
    "    graphs = {state:[] for state in states_to_graph}\n",
    "    for iteration in range(1,no_of_episodes+1):\n",
    "        run_single_trial(agent_program, mdp)\n",
    "        U = defaultdict(lambda: -1000.) # Very Large Negative Value for Comparison see below.\n",
    "        for state_action, value in q_agent.Q.items():\n",
    "            state, action = state_action\n",
    "            if U[state] < value:\n",
    "                        U[state] = value\n",
    "        for state in states_to_graph:\n",
    "            graphs[state].append((iteration, U[state]))\n",
    "    for state, value in graphs.items():\n",
    "        state_x, state_y = zip(*value)\n",
    "#         X_Y_Spline = make_interp_spline(state_x, state_y)\n",
    "#         X_ = np.linspace(1, no_of_episodes, 10)\n",
    "#         Y_ = X_Y_Spline(X_)\n",
    "#         plt.plot(X_, Y_)\n",
    "        plt.plot(state_x, state_y, label=str(state))\n",
    "#     plt.ylim([0,1.2])\n",
    "    plt.legend(loc='lower right')\n",
    "    plt.xlabel('Iterations')\n",
    "    plt.ylabel('U')"
   ]
  },
  {
   "cell_type": "code",
   "execution_count": 6,
   "metadata": {},
   "outputs": [
    {
     "data": {
      "image/png": "[encoded data removed]",
      "text/plain": [
       "<Figure size 432x288 with 1 Axes>"
      ]
     },
     "metadata": {
      "needs_background": "light"
     },
     "output_type": "display_data"
    }
   ],
   "source": [
    "q_agent = QLearningAgent(mdp=sequential_decision_environment,epsilon_greedy=True, alpha=alpha,threshold=threshold,\n",
    "                        Ne=Ne,Rplus=Rplus,no_of_episodes=no_of_episodes,B=B,M=M,K=K)\n",
    "graph_utility_estimates_q_learning(q_agent, sequential_decision_environment, no_of_episodes, [(0,0)])"
   ]
  },
  {
   "cell_type": "code",
   "execution_count": 7,
   "metadata": {},
   "outputs": [],
   "source": [
    "U = defaultdict(lambda: -1000.) # Very Large Negative Value for Comparison see below.\n",
    "for state_action, value in q_agent.Q.items():\n",
    "    state, action = state_action\n",
    "    if U[state] < value:\n",
    "                U[state] = value"
   ]
  },
  {
   "cell_type": "code",
   "execution_count": 8,
   "metadata": {},
   "outputs": [
    {
     "data": {
      "text/plain": [
       "1.701058872412097"
      ]
     },
     "execution_count": 8,
     "metadata": {},
     "output_type": "execute_result"
    }
   ],
   "source": [
    "U.get((0,0))"
   ]
  },
  {
   "cell_type": "code",
   "execution_count": 9,
   "metadata": {},
   "outputs": [
    {
     "name": "stdout",
     "output_type": "stream",
     "text": [
      "1.5818525919513926\n"
     ]
    }
   ],
   "source": [
    "print(value_iteration(sequential_decision_environment).get((0,0)))"
   ]
  },
  {
   "cell_type": "code",
   "execution_count": null,
   "metadata": {},
   "outputs": [],
   "source": []
  },
  {
   "cell_type": "code",
   "execution_count": null,
   "metadata": {},
   "outputs": [],
   "source": []
  }
 ],
 "metadata": {
  "interpreter": {
   "hash": "8e627b864e5c744f6bcd67da2c168f83afae70864f34fe154f324beebdf4949f"
  },
  "kernelspec": {
   "display_name": "Python 3 (ipykernel)",
   "language": "python",
   "name": "python3"
  },
  "language_info": {
   "codemirror_mode": {
    "name": "ipython",
    "version": 3
   },
   "file_extension": ".py",
   "mimetype": "text/x-python",
   "name": "python",
   "nbconvert_exporter": "python",
   "pygments_lexer": "ipython3",
   "version": "3.8.11"
  },
  "pycharm": {
   "stem_cell": {
    "cell_type": "raw",
    "metadata": {
     "collapsed": false
    },
    "source": []
   }
  }
 },
 "nbformat": 4,
 "nbformat_minor": 1
}
